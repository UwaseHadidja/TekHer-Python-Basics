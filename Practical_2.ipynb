{
 "cells": [
  {
   "cell_type": "markdown",
   "id": "d68c1dee",
   "metadata": {},
   "source": [
    "# Practical_2: String and files"
   ]
  },
  {
   "cell_type": "markdown",
   "id": "bea983a3",
   "metadata": {},
   "source": [
    "---\n",
    "\n",
    "### Exercise 1:\n",
    "Create a string variable `text` and assign it the value `\"Python is amazing!\"`.\n",
    "\n",
    "```python\n",
    "# Exercise 1\n",
    "```\n",
    "\n",
    "---\n",
    "\n",
    "### Exercise 2:\n",
    "Find the length of the string `\"Hello, World!\"` and store it in a variable `length`.\n",
    "\n",
    "```python\n",
    "# Exercise 2\n",
    "```\n",
    "\n",
    "---\n",
    "\n",
    "### Exercise 3:\n",
    "Convert the string `\"python programming\"` to uppercase and store it in a variable `upper_text`.\n",
    "\n",
    "```python\n",
    "# Exercise 3\n",
    "```\n",
    "\n",
    "---\n",
    "\n",
    "### Exercise 4:\n",
    "Extract the first 5 characters from the string `\"Artificial Intelligence\"`.\n",
    "\n",
    "```python\n",
    "# Exercise 4\n",
    "```\n",
    "\n",
    "---\n",
    "\n",
    "### Exercise 5:\n",
    "Concatenate the strings `\"Hello\"` and `\"World\"` with a space in between.\n",
    "\n",
    "```python\n",
    "# Exercise 5\n",
    "```\n",
    "\n",
    "---\n",
    "\n",
    "### Exercise 6:\n",
    "Replace the word `\"dog\"` with `\"cat\"` in the string `\"The quick brown dog jumps over the lazy dog.\"`.\n",
    "\n",
    "```python\n",
    "# Exercise 6\n",
    "```\n",
    "\n",
    "---\n",
    "\n",
    "### Exercise 7:\n",
    "Split the string `\"apple,banana,orange\"` by commas and store the result in a list `fruits_list`.\n",
    "\n",
    "```python\n",
    "# Exercise 7\n",
    "```\n",
    "\n",
    "---\n",
    "\n",
    "### Exercise 8:\n",
    "Use string formatting to create the sentence `\"My name is Alice and I am 25 years old.\"`, where the name and age are variables.\n",
    "\n",
    "```python\n",
    "# Exercise 8\n",
    "```\n",
    "\n",
    "---\n",
    "\n",
    "### Exercise 9:\n",
    "Check if the string `\"python\"` is present in the sentence `\"I love python programming\"`.\n",
    "\n",
    "```python\n",
    "# Exercise 9\n",
    "```\n",
    "\n",
    "---\n",
    "\n",
    "### Exercise 10:\n",
    "Count the number of occurrences of the letter `\"e\"` in the string `\"Elephant is an elegant animal\"`.\n",
    "\n",
    "```python\n",
    "# Exercise 10\n",
    "```\n",
    "\n",
    "---\n",
    "\n",
    "### Exercise 11:\n",
    "Remove any leading and trailing spaces from the string `\"   Data Science   \"`.\n",
    "\n",
    "```python\n",
    "# Exercise 11\n",
    "```\n",
    "\n",
    "---\n",
    "\n",
    "### Exercise 12:\n",
    "Convert the string `\"100\"` into an integer and store it in a variable `int_value`.\n",
    "\n",
    "```python\n",
    "# Exercise 12\n",
    "```\n",
    "\n",
    "---\n",
    "\n",
    "### Exercise 13:\n",
    "Extract the substring `\"pro\"` from the string `\"programming\"`.\n",
    "\n",
    "```python\n",
    "# Exercise 13\n",
    "```\n",
    "\n",
    "---\n",
    "\n",
    "### Exercise 14:\n",
    "Check if the string `\"data\"` starts with `\"da\"` and ends with `\"ta\"`.\n",
    "\n",
    "```python\n",
    "# Exercise 14\n",
    "```\n",
    "\n",
    "---\n",
    "\n",
    "### Exercise 15:\n",
    "Reverse the string `\"machine learning\"` and store the result in `reversed_text`.\n",
    "\n",
    "```python\n",
    "# Exercise 15\n",
    "```\n",
    "\n",
    "---\n",
    "\n",
    "### Exercise 16:\n",
    "Convert the first letter of each word in the string `\"machine learning is fun\"` to uppercase.\n",
    "\n",
    "```python\n",
    "# Exercise 16\n",
    "```\n",
    "\n",
    "---\n",
    "\n",
    "### Exercise 17:\n",
    "Create a multiline string representing a poem and store it in a variable `poem`.\n",
    "\n",
    "```python\n",
    "# Exercise 17\n",
    "```\n",
    "\n",
    "---\n",
    "\n",
    "### Exercise 18:\n",
    "Write a string to a file named `\"output.txt\"`.\n",
    "\n",
    "```python\n",
    "# Exercise 18\n",
    "```\n",
    "\n",
    "---\n",
    "\n",
    "### Exercise 19:\n",
    "Read the contents of a file named `\"data.txt\"` and print it line by line.\n",
    "\n",
    "```python\n",
    "# Exercise 19\n",
    "```\n",
    "\n",
    "---\n",
    "\n",
    "### Exercise 20:\n",
    "Check if a file `\"example.txt\"` exists before opening it.\n",
    "\n",
    "```python\n",
    "# Exercise 20\n",
    "```\n",
    "\n",
    "---\n",
    "\n",
    "### Exercise 21:\n",
    "Append a new line `\"This is a new line\"` to an existing file `\"notes.txt\"`.\n",
    "\n",
    "```python\n",
    "# Exercise 21\n",
    "```\n",
    "\n",
    "---\n",
    "\n",
    "### Exercise 22:\n",
    "Read the contents of a file `\"log.txt\"` and store each line in a list `log_lines`.\n",
    "\n",
    "```python\n",
    "# Exercise 22\n",
    "```\n",
    "\n",
    "---\n",
    "\n",
    "### Exercise 23:\n",
    "Create a new file `\"report.txt\"` and write the string `\"Data analysis report\"` to it.\n",
    "\n",
    "```python\n",
    "# Exercise 23\n",
    "```\n",
    "\n",
    "---\n",
    "\n",
    "### Exercise 24:\n",
    "Replace the word `\"error\"` with `\"issue\"` in a file `\"log.txt\"`.\n",
    "\n",
    "```python\n",
    "# Exercise 24\n",
    "```\n",
    "\n",
    "---\n",
    "\n",
    "### Exercise 25:\n",
    "Count the number of words in a text file `\"document.txt\"`.\n",
    "\n",
    "```python\n",
    "# Exercise 25\n",
    "```\n",
    "\n",
    "---\n",
    "\n",
    "### Exercise 26:\n",
    "Write a Python script that reads a file `\"essay.txt\"` and prints the total number of lines, words, and characters.\n",
    "\n",
    "```python\n",
    "# Exercise 26\n",
    "```\n",
    "\n",
    "---\n",
    "\n",
    "### Exercise 27:\n",
    "Copy the contents of one file `\"source.txt\"` to another file `\"destination.txt\"`.\n",
    "\n",
    "```python\n",
    "# Exercise 27\n",
    "```\n",
    "\n",
    "---\n",
    "\n",
    "### Exercise 28:\n",
    "Write a Python function that takes a filename as input and returns the number of lines in the file.\n",
    "\n",
    "```python\n",
    "# Exercise 28\n",
    "```\n",
    "\n",
    "---\n",
    "\n",
    "### Exercise 29:\n",
    "Extract all the words from a text file `\"article.txt\"` that contain more than 5 characters.\n",
    "\n",
    "```python\n",
    "# Exercise 29\n",
    "```\n",
    "\n",
    "---\n",
    "\n",
    "### Exercise 30:\n",
    "Convert the contents of a file `\"notes.txt\"` to uppercase and save the result in another file `\"uppercase_notes.txt\"`.\n",
    "\n",
    "```python\n",
    "# Exercise 30\n",
    "```\n",
    "\n",
    "---\n",
    "\n",
    "### Exercise 31:\n",
    "Write a Python script that reads a file and removes all empty lines.\n",
    "\n",
    "```python\n",
    "# Exercise 31\n",
    "```\n",
    "\n",
    "---\n",
    "\n",
    "### Exercise 32:\n",
    "Open a file `\"config.txt\"` in both read and write mode.\n",
    "\n",
    "```python\n",
    "# Exercise 32\n",
    "```\n",
    "\n",
    "---\n",
    "\n",
    "### Exercise 33:\n",
    "Write a Python function that reads a file and prints the longest line in the file.\n",
    "\n",
    "```python\n",
    "# Exercise 33\n",
    "```\n",
    "\n",
    "---\n",
    "\n",
    "### Exercise 34:\n",
    "Write a Python script to count the frequency of each letter in a text file `\"message.txt\"`.\n",
    "\n",
    "```python\n",
    "# Exercise 34\n",
    "```\n",
    "\n",
    "---\n",
    "\n",
    "### Exercise 35:\n",
    "Write a Python script that reads a file and prints the total number of characters, excluding spaces.\n",
    "\n",
    "```python\n",
    "# Exercise 35\n",
    "```\n",
    "\n",
    "---\n",
    "\n",
    "### Exercise 36:\n",
    "Create a Python script to check whether a file is empty or not.\n",
    "\n",
    "```python\n",
    "# Exercise 36\n",
    "```\n",
    "\n",
    "---\n",
    "\n",
    "### Exercise 37:\n",
    "Write a Python function that reads a file and removes all punctuation marks from the text.\n",
    "\n",
    "```python\n",
    "# Exercise 37\n",
    "```\n",
    "\n",
    "---\n",
    "\n",
    "### Exercise 38:\n",
    "Create a Python function that writes a list of strings to a file, each string on a new line.\n",
    "\n",
    "```python\n",
    "# Exercise 38\n",
    "```\n",
    "\n",
    "---\n",
    "\n",
    "### Exercise 39:\n",
    "Write a Python script to count the number of lines that start with a specific letter (e.g., \"A\") in a text file.\n",
    "\n",
    "```python\n",
    "# Exercise 39\n",
    "```\n",
    "\n",
    "---\n",
    "\n",
    "### Exercise 40:\n",
    "Write a Python function that takes a string as input and writes it to a file `\"output.txt\"` in reverse order.\n",
    "\n",
    "```python\n",
    "# Exercise 40\n",
    "```\n",
    "\n",
    "---\n",
    "\n",
    "### Exercise 41:\n",
    "Write a Python script that reads a file and prints all the lines that contain the word `\"Python\"`.\n",
    "\n",
    "```python\n",
    "# Exercise 41\n",
    "```\n",
    "\n",
    "---\n",
    "\n",
    "### Exercise 42:\n",
    "Write a Python script that opens a file and removes all numeric digits from the file's content.\n",
    "\n",
    "```python\n",
    "# Exercise 42\n",
    "```\n",
    "\n",
    "---\n",
    "\n",
    "### Exercise 43:\n",
    "Write a Python script to find the most frequent word in a text file `\"book.txt\"`.\n",
    "\n",
    "```python\n",
    "# Exercise 43\n",
    "```\n",
    "\n",
    "---\n",
    "\n",
    "### Exercise 44:\n",
    "Write a Python script that reads a file and prints all the lines that contain exactly 5 words.\n",
    "\n",
    "```python\n",
    "# Exercise 44\n",
    "```\n",
    "\n",
    "---\n",
    "\n",
    "### Exercise 45:\n",
    "Write a Python script to read a file and print the first and last line of the file.\n",
    "\n",
    "```python\n",
    "# Exercise 45\n",
    "```\n",
    "\n",
    "---\n",
    "\n",
    "### Exercise 46:\n",
    "Write a Python script that checks if a file `\"students.txt\"` is writable.\n",
    "\n",
    "```python\n",
    "# Exercise 46\n",
    "```\n",
    "\n",
    "---\n",
    "\n",
    "### Exercise 47:\n",
    "Create a Python function that opens a file and returns the number of unique words in the file.\n",
    "\n",
    "```python\n",
    "# Exercise 47\n",
    "```\n",
    "\n",
    "---\n",
    "\n",
    "### Exercise 48:\n",
    "Write a Python script that reads a file and prints all lines in reverse order.\n",
    "\n",
    "```python\n",
    "# Exercise 48\n",
    "```\n",
    "\n",
    "---\n",
    "\n",
    "### Exercise 49:\n",
    "Write a Python function that reads a file and returns the most common letter in the text.\n",
    "\n",
    "```python\n",
    "# Exercise 49\n",
    "```\n",
    "\n",
    "---\n",
    "\n",
    "### Exercise 50:\n",
    "Write a Python script that reads a file and replaces every occurrence of `\"Python\"` with `\"Java\"`.\n",
    "\n",
    "```python\n",
    "# Exercise 50\n",
    "```\n",
    "\n",
    "---\n",
    "\n"
   ]
  },
  {
   "cell_type": "markdown",
   "id": "4506a10e-c851-472d-8af8-4cdb003ee494",
   "metadata": {},
   "source": [
    "## Exercise Ans 1"
   ]
  },
  {
   "cell_type": "code",
   "execution_count": 1,
   "id": "1abcd33c-26ad-4718-8f58-16d3a836f16f",
   "metadata": {},
   "outputs": [
    {
     "name": "stdout",
     "output_type": "stream",
     "text": [
      "Python is amazing\n"
     ]
    }
   ],
   "source": [
    "text = \"Python is amazing\"\n",
    "print(text)"
   ]
  },
  {
   "cell_type": "markdown",
   "id": "750937d4-0ecd-491d-bd63-87b42d4efdae",
   "metadata": {},
   "source": [
    "## Exercise Ans 2"
   ]
  },
  {
   "cell_type": "code",
   "execution_count": 4,
   "id": "ddc8601d-ee65-4f78-8cd2-4905ab00301d",
   "metadata": {},
   "outputs": [],
   "source": [
    "length= len(\"Hello, World!\")"
   ]
  },
  {
   "cell_type": "markdown",
   "id": "8935ea69-9baf-45aa-a5cc-497be93c7d8d",
   "metadata": {},
   "source": [
    "## Exercise Ans 3"
   ]
  },
  {
   "cell_type": "code",
   "execution_count": 8,
   "id": "209d4443-39bf-4ed0-a4be-13c6b78bb037",
   "metadata": {},
   "outputs": [
    {
     "name": "stdout",
     "output_type": "stream",
     "text": [
      "PYTHON PROGRAMMING\n"
     ]
    }
   ],
   "source": [
    "upper_text= \"python programming\".upper()\n",
    "print(upper_text)"
   ]
  },
  {
   "cell_type": "markdown",
   "id": "d304e2ec-8141-4fd2-9eab-80e85e6d6ec9",
   "metadata": {},
   "source": [
    "## Exercise Ans 4"
   ]
  },
  {
   "cell_type": "code",
   "execution_count": 9,
   "id": "b3cd6f90-b36b-4e5e-b299-e08b750a905a",
   "metadata": {},
   "outputs": [],
   "source": [
    "first_five=\"Artificial Intelligence\" [:5]"
   ]
  },
  {
   "cell_type": "markdown",
   "id": "2db2e3b4-a29d-48e1-8f83-fa9faae2c8a9",
   "metadata": {},
   "source": [
    "## Exercise Ans 5"
   ]
  },
  {
   "cell_type": "code",
   "execution_count": 10,
   "id": "9495d015-6c05-4170-867d-07f50390a4af",
   "metadata": {},
   "outputs": [],
   "source": [
    "str= \"Hello\" +\" \"+ \"World!\""
   ]
  },
  {
   "cell_type": "markdown",
   "id": "fbaaf1d1-7f1a-4e08-befa-4ea9567eba19",
   "metadata": {},
   "source": [
    "## Exercise Ans 6"
   ]
  },
  {
   "cell_type": "code",
   "execution_count": 11,
   "id": "657b9ead-84f5-4546-b440-4690eae7dbc5",
   "metadata": {},
   "outputs": [
    {
     "name": "stdout",
     "output_type": "stream",
     "text": [
      "The quick brown cat jumps over the lazy cat.\n"
     ]
    }
   ],
   "source": [
    "replace= \"The quick brown dog jumps over the lazy dog.\".replace(\"dog\",\"cat\")\n",
    "print(replace)"
   ]
  },
  {
   "cell_type": "markdown",
   "id": "9f5fcb25-57d0-4a11-84e2-5d7022780e2c",
   "metadata": {},
   "source": [
    "## Exercise Ans 7"
   ]
  },
  {
   "cell_type": "code",
   "execution_count": 13,
   "id": "23e50809-3341-413c-b281-51fbfbbf3115",
   "metadata": {},
   "outputs": [
    {
     "name": "stdout",
     "output_type": "stream",
     "text": [
      "['apple', 'banana', 'orange']\n"
     ]
    }
   ],
   "source": [
    "fruits_list= \"apple,banana,orange\".split(\",\")\n",
    "print(fruits_list)"
   ]
  },
  {
   "cell_type": "markdown",
   "id": "5247fe7a-e5af-4a95-9303-63d5a4145022",
   "metadata": {},
   "source": [
    "## Exercise Ans 8"
   ]
  },
  {
   "cell_type": "code",
   "execution_count": 16,
   "id": "c16bb97d-1b6c-4e64-86fb-ec9ab5e9aaeb",
   "metadata": {},
   "outputs": [
    {
     "data": {
      "text/plain": [
       "'My name is Alice and I am 25 years old.'"
      ]
     },
     "execution_count": 16,
     "metadata": {},
     "output_type": "execute_result"
    }
   ],
   "source": [
    "name= \"Alice\"\n",
    "Age= 25\n",
    "sentence= f\"My name is {name} and I am {Age} years old.\"\n",
    "sentence"
   ]
  },
  {
   "cell_type": "markdown",
   "id": "5a7e1263-e542-433d-b864-b2eab356307c",
   "metadata": {},
   "source": [
    "## Exercise Ans 9"
   ]
  },
  {
   "cell_type": "code",
   "execution_count": 17,
   "id": "f0995200-5615-4626-805a-4380a2f9ccf1",
   "metadata": {},
   "outputs": [
    {
     "data": {
      "text/plain": [
       "True"
      ]
     },
     "execution_count": 17,
     "metadata": {},
     "output_type": "execute_result"
    }
   ],
   "source": [
    "is_present= \"python\" in \"I love python programming\"\n",
    "is_present"
   ]
  },
  {
   "cell_type": "markdown",
   "id": "063310d5-a36d-497c-be3a-15d6e481b097",
   "metadata": {},
   "source": [
    "## Exercise Ans 10"
   ]
  },
  {
   "cell_type": "code",
   "execution_count": 19,
   "id": "d112022f-2a51-4bb9-ade5-ec22086804c1",
   "metadata": {},
   "outputs": [
    {
     "data": {
      "text/plain": [
       "4"
      ]
     },
     "execution_count": 19,
     "metadata": {},
     "output_type": "execute_result"
    }
   ],
   "source": [
    "count=\"elephant is an elegant animal\".count(\"e\")\n",
    "count"
   ]
  },
  {
   "cell_type": "markdown",
   "id": "b93ee849-cfed-4a7b-8392-7ab45b84b05d",
   "metadata": {},
   "source": [
    "## Exercise Ans 11"
   ]
  },
  {
   "cell_type": "code",
   "execution_count": 20,
   "id": "37f9f527-9dda-4388-b7ae-81faa35d7653",
   "metadata": {},
   "outputs": [
    {
     "data": {
      "text/plain": [
       "'Data Science'"
      ]
     },
     "execution_count": 20,
     "metadata": {},
     "output_type": "execute_result"
    }
   ],
   "source": [
    "data= \"  Data Science   \".strip()\n",
    "data"
   ]
  },
  {
   "cell_type": "markdown",
   "id": "0dbf6e36-8151-45ab-8b97-9a68de3f06fa",
   "metadata": {},
   "source": [
    "## Exercise Ans 12"
   ]
  },
  {
   "cell_type": "code",
   "execution_count": 21,
   "id": "1c88d0fe-6207-4e2e-96f5-281c549f9243",
   "metadata": {},
   "outputs": [
    {
     "name": "stdout",
     "output_type": "stream",
     "text": [
      "100\n"
     ]
    }
   ],
   "source": [
    "int_value = int(\"100\")\n",
    "print(int_value)"
   ]
  },
  {
   "cell_type": "markdown",
   "id": "dc1d3d59-f18d-4971-9b49-b61b3a0ace45",
   "metadata": {},
   "source": [
    "## Exercise Ans 13"
   ]
  },
  {
   "cell_type": "code",
   "execution_count": 22,
   "id": "57761d9c-8149-4b87-89ed-21797fbe936b",
   "metadata": {},
   "outputs": [
    {
     "data": {
      "text/plain": [
       "'pro'"
      ]
     },
     "execution_count": 22,
     "metadata": {},
     "output_type": "execute_result"
    }
   ],
   "source": [
    " substring= \"programming\"[0:3]\n",
    "substring"
   ]
  },
  {
   "cell_type": "markdown",
   "id": "461e0eee-8070-4c30-ad2e-d2014274b635",
   "metadata": {},
   "source": [
    "## Exercise Ans 14"
   ]
  },
  {
   "cell_type": "code",
   "execution_count": 23,
   "id": "822a0368-8fc5-4fa6-8cb6-608d1b89b781",
   "metadata": {},
   "outputs": [
    {
     "name": "stdout",
     "output_type": "stream",
     "text": [
      "True\n"
     ]
    }
   ],
   "source": [
    "check = \"data\"\n",
    "print(check.startswith(\"da\") and check.endswith(\"ta\"))"
   ]
  },
  {
   "cell_type": "markdown",
   "id": "2d369f40-5bb6-4ea5-990c-bf8ec2204b9b",
   "metadata": {},
   "source": [
    "## Exercise Ans 15"
   ]
  },
  {
   "cell_type": "code",
   "execution_count": 24,
   "id": "ba5c3db0-5b9b-4b29-908e-8d3a35e9e6dc",
   "metadata": {},
   "outputs": [
    {
     "name": "stdout",
     "output_type": "stream",
     "text": [
      "gninrael enihcam\n"
     ]
    }
   ],
   "source": [
    "reversed_text = \"machine learning\"[::-1]\n",
    "print(reversed_text) "
   ]
  },
  {
   "cell_type": "markdown",
   "id": "aa5937b5-c681-44a4-b072-b2dfb68dc1ba",
   "metadata": {},
   "source": [
    "## Exercise Ans 16"
   ]
  },
  {
   "cell_type": "code",
   "execution_count": 25,
   "id": "e7c0bc62-4c85-4bab-96c6-1924657cf183",
   "metadata": {},
   "outputs": [
    {
     "data": {
      "text/plain": [
       "'Machine Learning Is Fun'"
      ]
     },
     "execution_count": 25,
     "metadata": {},
     "output_type": "execute_result"
    }
   ],
   "source": [
    "upper_text = \"machine learning is fun\".title()\n",
    "upper_text"
   ]
  },
  {
   "cell_type": "markdown",
   "id": "95196c51-e427-464e-a401-ecaf9f0de121",
   "metadata": {},
   "source": [
    "## Exercise Ans 17"
   ]
  },
  {
   "cell_type": "code",
   "execution_count": 26,
   "id": "93c7fe64-ff70-4732-895c-d863bf58fe36",
   "metadata": {},
   "outputs": [
    {
     "name": "stdout",
     "output_type": "stream",
     "text": [
      "Java is tricky,\n",
      "but when practicing,\n",
      "becomes easier,\n",
      "what about Python .\n"
     ]
    }
   ],
   "source": [
    "poem = \"\"\"Java is tricky,\n",
    "but when practicing,\n",
    "becomes easier,\n",
    "what about Python .\"\"\"\n",
    "print(poem)"
   ]
  },
  {
   "cell_type": "markdown",
   "id": "9340e98e-b8ac-478f-9867-2f2da5223733",
   "metadata": {},
   "source": [
    "## Exercise Ans 18"
   ]
  },
  {
   "cell_type": "code",
   "execution_count": 27,
   "id": "de4492d8-b624-429d-89eb-cdad22ee1b47",
   "metadata": {},
   "outputs": [],
   "source": [
    "string= \"statement written to the file\"\n",
    "with open(\"output.txt\", \"w\") as file:\n",
    "    file.write(string)"
   ]
  },
  {
   "cell_type": "markdown",
   "id": "fc3472b5-f935-4795-823f-5caf83c9feb1",
   "metadata": {},
   "source": [
    "## Exercise Ans 19"
   ]
  },
  {
   "cell_type": "code",
   "execution_count": 28,
   "id": "260b204a-606b-4401-bc8f-04754cd7c636",
   "metadata": {},
   "outputs": [
    {
     "ename": "FileNotFoundError",
     "evalue": "[Errno 2] No such file or directory: 'data.txt'",
     "output_type": "error",
     "traceback": [
      "\u001b[1;31m---------------------------------------------------------------------------\u001b[0m",
      "\u001b[1;31mFileNotFoundError\u001b[0m                         Traceback (most recent call last)",
      "Cell \u001b[1;32mIn[28], line 1\u001b[0m\n\u001b[1;32m----> 1\u001b[0m \u001b[38;5;28;01mwith\u001b[39;00m \u001b[38;5;28mopen\u001b[39m(\u001b[38;5;124m\"\u001b[39m\u001b[38;5;124mdata.txt\u001b[39m\u001b[38;5;124m\"\u001b[39m, \u001b[38;5;124m\"\u001b[39m\u001b[38;5;124mr\u001b[39m\u001b[38;5;124m\"\u001b[39m) \u001b[38;5;28;01mas\u001b[39;00m f:\n\u001b[0;32m      2\u001b[0m     \u001b[38;5;28;01mfor\u001b[39;00m line \u001b[38;5;129;01min\u001b[39;00m f:\n\u001b[0;32m      3\u001b[0m         \u001b[38;5;28mprint\u001b[39m(line\u001b[38;5;241m.\u001b[39mstrip())\n",
      "File \u001b[1;32m~\\anaconda3\\Lib\\site-packages\\IPython\\core\\interactiveshell.py:324\u001b[0m, in \u001b[0;36m_modified_open\u001b[1;34m(file, *args, **kwargs)\u001b[0m\n\u001b[0;32m    317\u001b[0m \u001b[38;5;28;01mif\u001b[39;00m file \u001b[38;5;129;01min\u001b[39;00m {\u001b[38;5;241m0\u001b[39m, \u001b[38;5;241m1\u001b[39m, \u001b[38;5;241m2\u001b[39m}:\n\u001b[0;32m    318\u001b[0m     \u001b[38;5;28;01mraise\u001b[39;00m \u001b[38;5;167;01mValueError\u001b[39;00m(\n\u001b[0;32m    319\u001b[0m         \u001b[38;5;124mf\u001b[39m\u001b[38;5;124m\"\u001b[39m\u001b[38;5;124mIPython won\u001b[39m\u001b[38;5;124m'\u001b[39m\u001b[38;5;124mt let you open fd=\u001b[39m\u001b[38;5;132;01m{\u001b[39;00mfile\u001b[38;5;132;01m}\u001b[39;00m\u001b[38;5;124m by default \u001b[39m\u001b[38;5;124m\"\u001b[39m\n\u001b[0;32m    320\u001b[0m         \u001b[38;5;124m\"\u001b[39m\u001b[38;5;124mas it is likely to crash IPython. If you know what you are doing, \u001b[39m\u001b[38;5;124m\"\u001b[39m\n\u001b[0;32m    321\u001b[0m         \u001b[38;5;124m\"\u001b[39m\u001b[38;5;124myou can use builtins\u001b[39m\u001b[38;5;124m'\u001b[39m\u001b[38;5;124m open.\u001b[39m\u001b[38;5;124m\"\u001b[39m\n\u001b[0;32m    322\u001b[0m     )\n\u001b[1;32m--> 324\u001b[0m \u001b[38;5;28;01mreturn\u001b[39;00m io_open(file, \u001b[38;5;241m*\u001b[39margs, \u001b[38;5;241m*\u001b[39m\u001b[38;5;241m*\u001b[39mkwargs)\n",
      "\u001b[1;31mFileNotFoundError\u001b[0m: [Errno 2] No such file or directory: 'data.txt'"
     ]
    }
   ],
   "source": [
    "with open(\"data.txt\", \"r\") as f:\n",
    "    for line in f:\n",
    "        print(line.strip())"
   ]
  },
  {
   "cell_type": "markdown",
   "id": "102dac4a-8a7e-44a5-a1f2-340c5ba24702",
   "metadata": {},
   "source": [
    "## Exercise Ans 20"
   ]
  },
  {
   "cell_type": "code",
   "execution_count": 29,
   "id": "9db65dd7-1805-41a0-a857-2d761b7c564b",
   "metadata": {},
   "outputs": [
    {
     "name": "stdout",
     "output_type": "stream",
     "text": [
      "False\n"
     ]
    }
   ],
   "source": [
    "import os\n",
    "print(os.path.exists(\"example.txt\")) "
   ]
  },
  {
   "cell_type": "markdown",
   "id": "16454b64-7784-487f-ab2a-1520b44aa88a",
   "metadata": {},
   "source": [
    "## Exercise Ans 21"
   ]
  },
  {
   "cell_type": "code",
   "execution_count": 30,
   "id": "73d1da43-f8d5-47f8-ab92-9c4168724e36",
   "metadata": {},
   "outputs": [],
   "source": [
    "with open(\"notes.txt\", \"a\") as f:\n",
    "    f.write(\"\\nThis is a new line\")"
   ]
  },
  {
   "cell_type": "markdown",
   "id": "fd1edb55-b801-46c4-8fae-6542f7ed3f4f",
   "metadata": {},
   "source": [
    "## Exercise Ans 22"
   ]
  },
  {
   "cell_type": "code",
   "execution_count": 31,
   "id": "60e2622f-2e24-4386-a174-ff812bd8bdf3",
   "metadata": {},
   "outputs": [
    {
     "ename": "FileNotFoundError",
     "evalue": "[Errno 2] No such file or directory: 'log.txt'",
     "output_type": "error",
     "traceback": [
      "\u001b[1;31m---------------------------------------------------------------------------\u001b[0m",
      "\u001b[1;31mFileNotFoundError\u001b[0m                         Traceback (most recent call last)",
      "Cell \u001b[1;32mIn[31], line 1\u001b[0m\n\u001b[1;32m----> 1\u001b[0m \u001b[38;5;28;01mwith\u001b[39;00m \u001b[38;5;28mopen\u001b[39m(\u001b[38;5;124m\"\u001b[39m\u001b[38;5;124mlog.txt\u001b[39m\u001b[38;5;124m\"\u001b[39m, \u001b[38;5;124m\"\u001b[39m\u001b[38;5;124mr\u001b[39m\u001b[38;5;124m\"\u001b[39m) \u001b[38;5;28;01mas\u001b[39;00m f:\n\u001b[0;32m      2\u001b[0m     log_lines \u001b[38;5;241m=\u001b[39m f\u001b[38;5;241m.\u001b[39mreadlines()\n\u001b[0;32m      3\u001b[0m \u001b[38;5;28mprint\u001b[39m(log_lines)\n",
      "File \u001b[1;32m~\\anaconda3\\Lib\\site-packages\\IPython\\core\\interactiveshell.py:324\u001b[0m, in \u001b[0;36m_modified_open\u001b[1;34m(file, *args, **kwargs)\u001b[0m\n\u001b[0;32m    317\u001b[0m \u001b[38;5;28;01mif\u001b[39;00m file \u001b[38;5;129;01min\u001b[39;00m {\u001b[38;5;241m0\u001b[39m, \u001b[38;5;241m1\u001b[39m, \u001b[38;5;241m2\u001b[39m}:\n\u001b[0;32m    318\u001b[0m     \u001b[38;5;28;01mraise\u001b[39;00m \u001b[38;5;167;01mValueError\u001b[39;00m(\n\u001b[0;32m    319\u001b[0m         \u001b[38;5;124mf\u001b[39m\u001b[38;5;124m\"\u001b[39m\u001b[38;5;124mIPython won\u001b[39m\u001b[38;5;124m'\u001b[39m\u001b[38;5;124mt let you open fd=\u001b[39m\u001b[38;5;132;01m{\u001b[39;00mfile\u001b[38;5;132;01m}\u001b[39;00m\u001b[38;5;124m by default \u001b[39m\u001b[38;5;124m\"\u001b[39m\n\u001b[0;32m    320\u001b[0m         \u001b[38;5;124m\"\u001b[39m\u001b[38;5;124mas it is likely to crash IPython. If you know what you are doing, \u001b[39m\u001b[38;5;124m\"\u001b[39m\n\u001b[0;32m    321\u001b[0m         \u001b[38;5;124m\"\u001b[39m\u001b[38;5;124myou can use builtins\u001b[39m\u001b[38;5;124m'\u001b[39m\u001b[38;5;124m open.\u001b[39m\u001b[38;5;124m\"\u001b[39m\n\u001b[0;32m    322\u001b[0m     )\n\u001b[1;32m--> 324\u001b[0m \u001b[38;5;28;01mreturn\u001b[39;00m io_open(file, \u001b[38;5;241m*\u001b[39margs, \u001b[38;5;241m*\u001b[39m\u001b[38;5;241m*\u001b[39mkwargs)\n",
      "\u001b[1;31mFileNotFoundError\u001b[0m: [Errno 2] No such file or directory: 'log.txt'"
     ]
    }
   ],
   "source": [
    "with open(\"log.txt\", \"r\") as f:\n",
    "    log_lines = f.readlines()\n",
    "print(log_lines)"
   ]
  },
  {
   "cell_type": "markdown",
   "id": "2fe955e0-f4ad-439f-ac97-35c701555429",
   "metadata": {},
   "source": [
    "## Exercise Ans 23"
   ]
  },
  {
   "cell_type": "code",
   "execution_count": null,
   "id": "520d2995-f36b-4284-8140-e4d3c3b2eaf9",
   "metadata": {},
   "outputs": [],
   "source": [
    "with open(\"report.txt\", \"w\") as f:\n",
    "    f.write(\"Data analysis report\")"
   ]
  },
  {
   "cell_type": "markdown",
   "id": "7b342406-7ebf-4aa5-b646-938723dfca44",
   "metadata": {},
   "source": [
    "## Exercise Ans 24"
   ]
  },
  {
   "cell_type": "code",
   "execution_count": null,
   "id": "6f1eedcb-59bc-4396-8355-e72e719a031e",
   "metadata": {},
   "outputs": [],
   "source": [
    "with open(\"log.txt\", \"r\") as f:\n",
    "    content = f.read()\n",
    "\n",
    "content = content.replace(\"error\", \"issue\")\n",
    "\n",
    "with open(\"log.txt\", \"w\") as f:\n",
    "    f.write(content)"
   ]
  },
  {
   "cell_type": "markdown",
   "id": "2cde2399-95c5-42ff-b441-a55db3cf4e8d",
   "metadata": {},
   "source": [
    "## Exercise Ans 25"
   ]
  },
  {
   "cell_type": "code",
   "execution_count": null,
   "id": "9582be19-1d8a-480e-b8d5-69d53862e189",
   "metadata": {},
   "outputs": [],
   "source": [
    "with open(\"document.txt\", \"r\") as f:\n",
    "    content = f.read()"
   ]
  },
  {
   "cell_type": "markdown",
   "id": "d4cf32f1-e363-47e7-ac1e-927c3a71e96b",
   "metadata": {},
   "source": [
    "## Exercise Ans 26"
   ]
  },
  {
   "cell_type": "code",
   "execution_count": null,
   "id": "db4139d1-5852-4394-98bc-a50cfaaee2f5",
   "metadata": {},
   "outputs": [],
   "source": []
  }
 ],
 "metadata": {
  "kernelspec": {
   "display_name": "Python [conda env:base] *",
   "language": "python",
   "name": "conda-base-py"
  },
  "language_info": {
   "codemirror_mode": {
    "name": "ipython",
    "version": 3
   },
   "file_extension": ".py",
   "mimetype": "text/x-python",
   "name": "python",
   "nbconvert_exporter": "python",
   "pygments_lexer": "ipython3",
   "version": "3.12.7"
  }
 },
 "nbformat": 4,
 "nbformat_minor": 5
}
