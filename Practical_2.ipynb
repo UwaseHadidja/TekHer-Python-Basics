{
 "cells": [
  {
   "cell_type": "markdown",
   "id": "d68c1dee",
   "metadata": {},
   "source": [
    "# Practical_2: String and files"
   ]
  },
  {
   "cell_type": "markdown",
   "id": "bea983a3",
   "metadata": {},
   "source": [
    "---\n",
    "\n",
    "### Exercise 1:\n",
    "Create a string variable `text` and assign it the value `\"Python is amazing!\"`.\n",
    "\n",
    "```python\n",
    "# Exercise 1\n",
    "```\n",
    "\n",
    "---\n",
    "\n",
    "### Exercise 2:\n",
    "Find the length of the string `\"Hello, World!\"` and store it in a variable `length`.\n",
    "\n",
    "```python\n",
    "# Exercise 2\n",
    "```\n",
    "\n",
    "---\n",
    "\n",
    "### Exercise 3:\n",
    "Convert the string `\"python programming\"` to uppercase and store it in a variable `upper_text`.\n",
    "\n",
    "```python\n",
    "# Exercise 3\n",
    "```\n",
    "\n",
    "---\n",
    "\n",
    "### Exercise 4:\n",
    "Extract the first 5 characters from the string `\"Artificial Intelligence\"`.\n",
    "\n",
    "```python\n",
    "# Exercise 4\n",
    "```\n",
    "\n",
    "---\n",
    "\n",
    "### Exercise 5:\n",
    "Concatenate the strings `\"Hello\"` and `\"World\"` with a space in between.\n",
    "\n",
    "```python\n",
    "# Exercise 5\n",
    "```\n",
    "\n",
    "---\n",
    "\n",
    "### Exercise 6:\n",
    "Replace the word `\"dog\"` with `\"cat\"` in the string `\"The quick brown dog jumps over the lazy dog.\"`.\n",
    "\n",
    "```python\n",
    "# Exercise 6\n",
    "```\n",
    "\n",
    "---\n",
    "\n",
    "### Exercise 7:\n",
    "Split the string `\"apple,banana,orange\"` by commas and store the result in a list `fruits_list`.\n",
    "\n",
    "```python\n",
    "# Exercise 7\n",
    "```\n",
    "\n",
    "---\n",
    "\n",
    "### Exercise 8:\n",
    "Use string formatting to create the sentence `\"My name is Alice and I am 25 years old.\"`, where the name and age are variables.\n",
    "\n",
    "```python\n",
    "# Exercise 8\n",
    "```\n",
    "\n",
    "---\n",
    "\n",
    "### Exercise 9:\n",
    "Check if the string `\"python\"` is present in the sentence `\"I love python programming\"`.\n",
    "\n",
    "```python\n",
    "# Exercise 9\n",
    "```\n",
    "\n",
    "---\n",
    "\n",
    "### Exercise 10:\n",
    "Count the number of occurrences of the letter `\"e\"` in the string `\"Elephant is an elegant animal\"`.\n",
    "\n",
    "```python\n",
    "# Exercise 10\n",
    "```\n",
    "\n",
    "---\n",
    "\n",
    "### Exercise 11:\n",
    "Remove any leading and trailing spaces from the string `\"   Data Science   \"`.\n",
    "\n",
    "```python\n",
    "# Exercise 11\n",
    "```\n",
    "\n",
    "---\n",
    "\n",
    "### Exercise 12:\n",
    "Convert the string `\"100\"` into an integer and store it in a variable `int_value`.\n",
    "\n",
    "```python\n",
    "# Exercise 12\n",
    "```\n",
    "\n",
    "---\n",
    "\n",
    "### Exercise 13:\n",
    "Extract the substring `\"pro\"` from the string `\"programming\"`.\n",
    "\n",
    "```python\n",
    "# Exercise 13\n",
    "```\n",
    "\n",
    "---\n",
    "\n",
    "### Exercise 14:\n",
    "Check if the string `\"data\"` starts with `\"da\"` and ends with `\"ta\"`.\n",
    "\n",
    "```python\n",
    "# Exercise 14\n",
    "```\n",
    "\n",
    "---\n",
    "\n",
    "### Exercise 15:\n",
    "Reverse the string `\"machine learning\"` and store the result in `reversed_text`.\n",
    "\n",
    "```python\n",
    "# Exercise 15\n",
    "```\n",
    "\n",
    "---\n",
    "\n",
    "### Exercise 16:\n",
    "Convert the first letter of each word in the string `\"machine learning is fun\"` to uppercase.\n",
    "\n",
    "```python\n",
    "# Exercise 16\n",
    "```\n",
    "\n",
    "---\n",
    "\n",
    "### Exercise 17:\n",
    "Create a multiline string representing a poem and store it in a variable `poem`.\n",
    "\n",
    "```python\n",
    "# Exercise 17\n",
    "```\n",
    "\n",
    "---\n",
    "\n",
    "### Exercise 18:\n",
    "Write a string to a file named `\"output.txt\"`.\n",
    "\n",
    "```python\n",
    "# Exercise 18\n",
    "```\n",
    "\n",
    "---\n",
    "\n",
    "### Exercise 19:\n",
    "Read the contents of a file named `\"data.txt\"` and print it line by line.\n",
    "\n",
    "```python\n",
    "# Exercise 19\n",
    "```\n",
    "\n",
    "---\n",
    "\n",
    "### Exercise 20:\n",
    "Check if a file `\"example.txt\"` exists before opening it.\n",
    "\n",
    "```python\n",
    "# Exercise 20\n",
    "```\n",
    "\n",
    "---\n",
    "\n",
    "### Exercise 21:\n",
    "Append a new line `\"This is a new line\"` to an existing file `\"notes.txt\"`.\n",
    "\n",
    "```python\n",
    "# Exercise 21\n",
    "```\n",
    "\n",
    "---\n",
    "\n",
    "### Exercise 22:\n",
    "Read the contents of a file `\"log.txt\"` and store each line in a list `log_lines`.\n",
    "\n",
    "```python\n",
    "# Exercise 22\n",
    "```\n",
    "\n",
    "---\n",
    "\n",
    "### Exercise 23:\n",
    "Create a new file `\"report.txt\"` and write the string `\"Data analysis report\"` to it.\n",
    "\n",
    "```python\n",
    "# Exercise 23\n",
    "```\n",
    "\n",
    "---\n",
    "\n",
    "### Exercise 24:\n",
    "Replace the word `\"error\"` with `\"issue\"` in a file `\"log.txt\"`.\n",
    "\n",
    "```python\n",
    "# Exercise 24\n",
    "```\n",
    "\n",
    "---\n",
    "\n",
    "### Exercise 25:\n",
    "Count the number of words in a text file `\"document.txt\"`.\n",
    "\n",
    "```python\n",
    "# Exercise 25\n",
    "```\n",
    "\n",
    "---\n",
    "\n",
    "### Exercise 26:\n",
    "Write a Python script that reads a file `\"essay.txt\"` and prints the total number of lines, words, and characters.\n",
    "\n",
    "```python\n",
    "# Exercise 26\n",
    "```\n",
    "\n",
    "---\n",
    "\n",
    "### Exercise 27:\n",
    "Copy the contents of one file `\"source.txt\"` to another file `\"destination.txt\"`.\n",
    "\n",
    "```python\n",
    "# Exercise 27\n",
    "```\n",
    "\n",
    "---\n",
    "\n",
    "### Exercise 28:\n",
    "Write a Python function that takes a filename as input and returns the number of lines in the file.\n",
    "\n",
    "```python\n",
    "# Exercise 28\n",
    "```\n",
    "\n",
    "---\n",
    "\n",
    "### Exercise 29:\n",
    "Extract all the words from a text file `\"article.txt\"` that contain more than 5 characters.\n",
    "\n",
    "```python\n",
    "# Exercise 29\n",
    "```\n",
    "\n",
    "---\n",
    "\n",
    "### Exercise 30:\n",
    "Convert the contents of a file `\"notes.txt\"` to uppercase and save the result in another file `\"uppercase_notes.txt\"`.\n",
    "\n",
    "```python\n",
    "# Exercise 30\n",
    "```\n",
    "\n",
    "---\n",
    "\n",
    "### Exercise 31:\n",
    "Write a Python script that reads a file and removes all empty lines.\n",
    "\n",
    "```python\n",
    "# Exercise 31\n",
    "```\n",
    "\n",
    "---\n",
    "\n",
    "### Exercise 32:\n",
    "Open a file `\"config.txt\"` in both read and write mode.\n",
    "\n",
    "```python\n",
    "# Exercise 32\n",
    "```\n",
    "\n",
    "---\n",
    "\n",
    "### Exercise 33:\n",
    "Write a Python function that reads a file and prints the longest line in the file.\n",
    "\n",
    "```python\n",
    "# Exercise 33\n",
    "```\n",
    "\n",
    "---\n",
    "\n",
    "### Exercise 34:\n",
    "Write a Python script to count the frequency of each letter in a text file `\"message.txt\"`.\n",
    "\n",
    "```python\n",
    "# Exercise 34\n",
    "```\n",
    "\n",
    "---\n",
    "\n",
    "### Exercise 35:\n",
    "Write a Python script that reads a file and prints the total number of characters, excluding spaces.\n",
    "\n",
    "```python\n",
    "# Exercise 35\n",
    "```\n",
    "\n",
    "---\n",
    "\n",
    "### Exercise 36:\n",
    "Create a Python script to check whether a file is empty or not.\n",
    "\n",
    "```python\n",
    "# Exercise 36\n",
    "```\n",
    "\n",
    "---\n",
    "\n",
    "### Exercise 37:\n",
    "Write a Python function that reads a file and removes all punctuation marks from the text.\n",
    "\n",
    "```python\n",
    "# Exercise 37\n",
    "```\n",
    "\n",
    "---\n",
    "\n",
    "### Exercise 38:\n",
    "Create a Python function that writes a list of strings to a file, each string on a new line.\n",
    "\n",
    "```python\n",
    "# Exercise 38\n",
    "```\n",
    "\n",
    "---\n",
    "\n",
    "### Exercise 39:\n",
    "Write a Python script to count the number of lines that start with a specific letter (e.g., \"A\") in a text file.\n",
    "\n",
    "```python\n",
    "# Exercise 39\n",
    "```\n",
    "\n",
    "---\n",
    "\n",
    "### Exercise 40:\n",
    "Write a Python function that takes a string as input and writes it to a file `\"output.txt\"` in reverse order.\n",
    "\n",
    "```python\n",
    "# Exercise 40\n",
    "```\n",
    "\n",
    "---\n",
    "\n",
    "### Exercise 41:\n",
    "Write a Python script that reads a file and prints all the lines that contain the word `\"Python\"`.\n",
    "\n",
    "```python\n",
    "# Exercise 41\n",
    "```\n",
    "\n",
    "---\n",
    "\n",
    "### Exercise 42:\n",
    "Write a Python script that opens a file and removes all numeric digits from the file's content.\n",
    "\n",
    "```python\n",
    "# Exercise 42\n",
    "```\n",
    "\n",
    "---\n",
    "\n",
    "### Exercise 43:\n",
    "Write a Python script to find the most frequent word in a text file `\"book.txt\"`.\n",
    "\n",
    "```python\n",
    "# Exercise 43\n",
    "```\n",
    "\n",
    "---\n",
    "\n",
    "### Exercise 44:\n",
    "Write a Python script that reads a file and prints all the lines that contain exactly 5 words.\n",
    "\n",
    "```python\n",
    "# Exercise 44\n",
    "```\n",
    "\n",
    "---\n",
    "\n",
    "### Exercise 45:\n",
    "Write a Python script to read a file and print the first and last line of the file.\n",
    "\n",
    "```python\n",
    "# Exercise 45\n",
    "```\n",
    "\n",
    "---\n",
    "\n",
    "### Exercise 46:\n",
    "Write a Python script that checks if a file `\"students.txt\"` is writable.\n",
    "\n",
    "```python\n",
    "# Exercise 46\n",
    "```\n",
    "\n",
    "---\n",
    "\n",
    "### Exercise 47:\n",
    "Create a Python function that opens a file and returns the number of unique words in the file.\n",
    "\n",
    "```python\n",
    "# Exercise 47\n",
    "```\n",
    "\n",
    "---\n",
    "\n",
    "### Exercise 48:\n",
    "Write a Python script that reads a file and prints all lines in reverse order.\n",
    "\n",
    "```python\n",
    "# Exercise 48\n",
    "```\n",
    "\n",
    "---\n",
    "\n",
    "### Exercise 49:\n",
    "Write a Python function that reads a file and returns the most common letter in the text.\n",
    "\n",
    "```python\n",
    "# Exercise 49\n",
    "```\n",
    "\n",
    "---\n",
    "\n",
    "### Exercise 50:\n",
    "Write a Python script that reads a file and replaces every occurrence of `\"Python\"` with `\"Java\"`.\n",
    "\n",
    "```python\n",
    "# Exercise 50\n",
    "```\n",
    "\n",
    "---\n",
    "\n"
   ]
  },
  {
   "cell_type": "markdown",
   "id": "4506a10e-c851-472d-8af8-4cdb003ee494",
   "metadata": {},
   "source": [
    "## Exercise Ans 1"
   ]
  },
  {
   "cell_type": "code",
   "execution_count": 1,
   "id": "1abcd33c-26ad-4718-8f58-16d3a836f16f",
   "metadata": {},
   "outputs": [
    {
     "name": "stdout",
     "output_type": "stream",
     "text": [
      "Python is amazing\n"
     ]
    }
   ],
   "source": [
    "text = \"Python is amazing\"\n",
    "print(text)"
   ]
  },
  {
   "cell_type": "markdown",
   "id": "750937d4-0ecd-491d-bd63-87b42d4efdae",
   "metadata": {},
   "source": [
    "## Exercise Ans 2"
   ]
  },
  {
   "cell_type": "code",
   "execution_count": 4,
   "id": "ddc8601d-ee65-4f78-8cd2-4905ab00301d",
   "metadata": {},
   "outputs": [],
   "source": [
    "length= len(\"Hello, World!\")"
   ]
  },
  {
   "cell_type": "markdown",
   "id": "8935ea69-9baf-45aa-a5cc-497be93c7d8d",
   "metadata": {},
   "source": [
    "## Exercise Ans 3"
   ]
  },
  {
   "cell_type": "code",
   "execution_count": 8,
   "id": "209d4443-39bf-4ed0-a4be-13c6b78bb037",
   "metadata": {},
   "outputs": [
    {
     "name": "stdout",
     "output_type": "stream",
     "text": [
      "PYTHON PROGRAMMING\n"
     ]
    }
   ],
   "source": [
    "upper_text= \"python programming\".upper()\n",
    "print(upper_text)"
   ]
  },
  {
   "cell_type": "markdown",
   "id": "d304e2ec-8141-4fd2-9eab-80e85e6d6ec9",
   "metadata": {},
   "source": [
    "## Exercise Ans 4"
   ]
  },
  {
   "cell_type": "code",
   "execution_count": 9,
   "id": "b3cd6f90-b36b-4e5e-b299-e08b750a905a",
   "metadata": {},
   "outputs": [],
   "source": [
    "first_five=\"Artificial Intelligence\" [:5]"
   ]
  },
  {
   "cell_type": "markdown",
   "id": "2db2e3b4-a29d-48e1-8f83-fa9faae2c8a9",
   "metadata": {},
   "source": [
    "## Exercise Ans 5"
   ]
  },
  {
   "cell_type": "code",
   "execution_count": 10,
   "id": "9495d015-6c05-4170-867d-07f50390a4af",
   "metadata": {},
   "outputs": [],
   "source": [
    "str= \"Hello\" +\" \"+ \"World!\""
   ]
  },
  {
   "cell_type": "markdown",
   "id": "fbaaf1d1-7f1a-4e08-befa-4ea9567eba19",
   "metadata": {},
   "source": [
    "## Exercise Ans 6"
   ]
  },
  {
   "cell_type": "code",
   "execution_count": 11,
   "id": "657b9ead-84f5-4546-b440-4690eae7dbc5",
   "metadata": {},
   "outputs": [
    {
     "name": "stdout",
     "output_type": "stream",
     "text": [
      "The quick brown cat jumps over the lazy cat.\n"
     ]
    }
   ],
   "source": [
    "replace= \"The quick brown dog jumps over the lazy dog.\".replace(\"dog\",\"cat\")\n",
    "print(replace)"
   ]
  },
  {
   "cell_type": "markdown",
   "id": "9f5fcb25-57d0-4a11-84e2-5d7022780e2c",
   "metadata": {},
   "source": [
    "## Exercise Ans 7"
   ]
  },
  {
   "cell_type": "code",
   "execution_count": 13,
   "id": "23e50809-3341-413c-b281-51fbfbbf3115",
   "metadata": {},
   "outputs": [
    {
     "name": "stdout",
     "output_type": "stream",
     "text": [
      "['apple', 'banana', 'orange']\n"
     ]
    }
   ],
   "source": [
    "fruits_list= \"apple,banana,orange\".split(\",\")\n",
    "print(fruits_list)"
   ]
  },
  {
   "cell_type": "markdown",
   "id": "5247fe7a-e5af-4a95-9303-63d5a4145022",
   "metadata": {},
   "source": [
    "## Exercise Ans 8"
   ]
  },
  {
   "cell_type": "code",
   "execution_count": 16,
   "id": "c16bb97d-1b6c-4e64-86fb-ec9ab5e9aaeb",
   "metadata": {},
   "outputs": [
    {
     "data": {
      "text/plain": [
       "'My name is Alice and I am 25 years old.'"
      ]
     },
     "execution_count": 16,
     "metadata": {},
     "output_type": "execute_result"
    }
   ],
   "source": [
    "name= \"Alice\"\n",
    "Age= 25\n",
    "sentence= f\"My name is {name} and I am {Age} years old.\"\n",
    "sentence"
   ]
  },
  {
   "cell_type": "markdown",
   "id": "5a7e1263-e542-433d-b864-b2eab356307c",
   "metadata": {},
   "source": [
    "## Exercise Ans 9"
   ]
  },
  {
   "cell_type": "code",
   "execution_count": 17,
   "id": "f0995200-5615-4626-805a-4380a2f9ccf1",
   "metadata": {},
   "outputs": [
    {
     "data": {
      "text/plain": [
       "True"
      ]
     },
     "execution_count": 17,
     "metadata": {},
     "output_type": "execute_result"
    }
   ],
   "source": [
    "is_present= \"python\" in \"I love python programming\"\n",
    "is_present"
   ]
  },
  {
   "cell_type": "markdown",
   "id": "063310d5-a36d-497c-be3a-15d6e481b097",
   "metadata": {},
   "source": [
    "## Exercise Ans 10"
   ]
  },
  {
   "cell_type": "code",
   "execution_count": 19,
   "id": "d112022f-2a51-4bb9-ade5-ec22086804c1",
   "metadata": {},
   "outputs": [
    {
     "data": {
      "text/plain": [
       "4"
      ]
     },
     "execution_count": 19,
     "metadata": {},
     "output_type": "execute_result"
    }
   ],
   "source": [
    "count=\"elephant is an elegant animal\".count(\"e\")\n",
    "count"
   ]
  },
  {
   "cell_type": "markdown",
   "id": "b93ee849-cfed-4a7b-8392-7ab45b84b05d",
   "metadata": {},
   "source": [
    "## Exercise Ans 11"
   ]
  },
  {
   "cell_type": "code",
   "execution_count": 20,
   "id": "37f9f527-9dda-4388-b7ae-81faa35d7653",
   "metadata": {},
   "outputs": [
    {
     "data": {
      "text/plain": [
       "'Data Science'"
      ]
     },
     "execution_count": 20,
     "metadata": {},
     "output_type": "execute_result"
    }
   ],
   "source": [
    "data= \"  Data Science   \".strip()\n",
    "data"
   ]
  },
  {
   "cell_type": "markdown",
   "id": "0dbf6e36-8151-45ab-8b97-9a68de3f06fa",
   "metadata": {},
   "source": [
    "## Exercise Ans 12"
   ]
  },
  {
   "cell_type": "code",
   "execution_count": 21,
   "id": "1c88d0fe-6207-4e2e-96f5-281c549f9243",
   "metadata": {},
   "outputs": [
    {
     "name": "stdout",
     "output_type": "stream",
     "text": [
      "100\n"
     ]
    }
   ],
   "source": [
    "int_value = int(\"100\")\n",
    "print(int_value)"
   ]
  },
  {
   "cell_type": "markdown",
   "id": "dc1d3d59-f18d-4971-9b49-b61b3a0ace45",
   "metadata": {},
   "source": [
    "## Exercise Ans 13"
   ]
  },
  {
   "cell_type": "code",
   "execution_count": 22,
   "id": "57761d9c-8149-4b87-89ed-21797fbe936b",
   "metadata": {},
   "outputs": [
    {
     "data": {
      "text/plain": [
       "'pro'"
      ]
     },
     "execution_count": 22,
     "metadata": {},
     "output_type": "execute_result"
    }
   ],
   "source": [
    " substring= \"programming\"[0:3]\n",
    "substring"
   ]
  },
  {
   "cell_type": "markdown",
   "id": "461e0eee-8070-4c30-ad2e-d2014274b635",
   "metadata": {},
   "source": [
    "## Exercise Ans 14"
   ]
  },
  {
   "cell_type": "code",
   "execution_count": 23,
   "id": "822a0368-8fc5-4fa6-8cb6-608d1b89b781",
   "metadata": {},
   "outputs": [
    {
     "name": "stdout",
     "output_type": "stream",
     "text": [
      "True\n"
     ]
    }
   ],
   "source": [
    "check = \"data\"\n",
    "print(check.startswith(\"da\") and check.endswith(\"ta\"))"
   ]
  },
  {
   "cell_type": "markdown",
   "id": "2d369f40-5bb6-4ea5-990c-bf8ec2204b9b",
   "metadata": {},
   "source": [
    "## Exercise Ans 15"
   ]
  },
  {
   "cell_type": "code",
   "execution_count": 24,
   "id": "ba5c3db0-5b9b-4b29-908e-8d3a35e9e6dc",
   "metadata": {},
   "outputs": [
    {
     "name": "stdout",
     "output_type": "stream",
     "text": [
      "gninrael enihcam\n"
     ]
    }
   ],
   "source": [
    "reversed_text = \"machine learning\"[::-1]\n",
    "print(reversed_text) "
   ]
  },
  {
   "cell_type": "markdown",
   "id": "aa5937b5-c681-44a4-b072-b2dfb68dc1ba",
   "metadata": {},
   "source": [
    "## Exercise Ans 16"
   ]
  },
  {
   "cell_type": "code",
   "execution_count": 25,
   "id": "e7c0bc62-4c85-4bab-96c6-1924657cf183",
   "metadata": {},
   "outputs": [
    {
     "data": {
      "text/plain": [
       "'Machine Learning Is Fun'"
      ]
     },
     "execution_count": 25,
     "metadata": {},
     "output_type": "execute_result"
    }
   ],
   "source": [
    "upper_text = \"machine learning is fun\".title()\n",
    "upper_text"
   ]
  },
  {
   "cell_type": "markdown",
   "id": "95196c51-e427-464e-a401-ecaf9f0de121",
   "metadata": {},
   "source": [
    "## Exercise Ans 17"
   ]
  },
  {
   "cell_type": "code",
   "execution_count": 26,
   "id": "93c7fe64-ff70-4732-895c-d863bf58fe36",
   "metadata": {},
   "outputs": [
    {
     "name": "stdout",
     "output_type": "stream",
     "text": [
      "Java is tricky,\n",
      "but when practicing,\n",
      "becomes easier,\n",
      "what about Python .\n"
     ]
    }
   ],
   "source": [
    "poem = \"\"\"Java is tricky,\n",
    "but when practicing,\n",
    "becomes easier,\n",
    "what about Python .\"\"\"\n",
    "print(poem)"
   ]
  },
  {
   "cell_type": "markdown",
   "id": "9340e98e-b8ac-478f-9867-2f2da5223733",
   "metadata": {},
   "source": [
    "## Exercise Ans 18"
   ]
  },
  {
   "cell_type": "code",
   "execution_count": 27,
   "id": "de4492d8-b624-429d-89eb-cdad22ee1b47",
   "metadata": {},
   "outputs": [],
   "source": [
    "string= \"statement written to the file\"\n",
    "with open(\"output.txt\", \"w\") as file:\n",
    "    file.write(string)"
   ]
  },
  {
   "cell_type": "markdown",
   "id": "fc3472b5-f935-4795-823f-5caf83c9feb1",
   "metadata": {},
   "source": [
    "## Exercise Ans 19"
   ]
  },
  {
   "cell_type": "code",
   "execution_count": 8,
   "id": "260b204a-606b-4401-bc8f-04754cd7c636",
   "metadata": {},
   "outputs": [
    {
     "name": "stdout",
     "output_type": "stream",
     "text": [
      "Name,Age,Score\n",
      "Alice,23,85\n",
      "Bob,30,90\n",
      "Charlie,25,88\n"
     ]
    }
   ],
   "source": [
    "with open(\"data/data.txt\", \"r\") as f:\n",
    "    for line in f:\n",
    "        print(line.strip())"
   ]
  },
  {
   "cell_type": "markdown",
   "id": "102dac4a-8a7e-44a5-a1f2-340c5ba24702",
   "metadata": {},
   "source": [
    "## Exercise Ans 20"
   ]
  },
  {
   "cell_type": "code",
   "execution_count": 29,
   "id": "9db65dd7-1805-41a0-a857-2d761b7c564b",
   "metadata": {},
   "outputs": [
    {
     "name": "stdout",
     "output_type": "stream",
     "text": [
      "False\n"
     ]
    }
   ],
   "source": [
    "import os\n",
    "print(os.path.exists(\"example.txt\")) "
   ]
  },
  {
   "cell_type": "markdown",
   "id": "16454b64-7784-487f-ab2a-1520b44aa88a",
   "metadata": {},
   "source": [
    "## Exercise Ans 21"
   ]
  },
  {
   "cell_type": "code",
   "execution_count": 9,
   "id": "73d1da43-f8d5-47f8-ab92-9c4168724e36",
   "metadata": {},
   "outputs": [],
   "source": [
    "with open(\"data/notes.txt\", \"a\") as f:\n",
    "    f.write(\"\\nThis is a new line\")"
   ]
  },
  {
   "cell_type": "markdown",
   "id": "fd1edb55-b801-46c4-8fae-6542f7ed3f4f",
   "metadata": {},
   "source": [
    "## Exercise Ans 22"
   ]
  },
  {
   "cell_type": "code",
   "execution_count": 10,
   "id": "60e2622f-2e24-4386-a174-ff812bd8bdf3",
   "metadata": {},
   "outputs": [
    {
     "name": "stdout",
     "output_type": "stream",
     "text": [
      "['2024-05-20 10:00:00 INFO Program started\\n', '2024-05-20 10:05:00 ERROR Invalid input\\n']\n"
     ]
    }
   ],
   "source": [
    "with open(\"data/log.txt\", \"r\") as f:\n",
    "    log_lines = f.readlines()\n",
    "print(log_lines)"
   ]
  },
  {
   "cell_type": "markdown",
   "id": "2fe955e0-f4ad-439f-ac97-35c701555429",
   "metadata": {},
   "source": [
    "## Exercise Ans 23"
   ]
  },
  {
   "cell_type": "code",
   "execution_count": 11,
   "id": "520d2995-f36b-4284-8140-e4d3c3b2eaf9",
   "metadata": {},
   "outputs": [],
   "source": [
    "with open(\"data/report.txt\", \"w\") as f:\n",
    "    f.write(\"Data analysis report\")"
   ]
  },
  {
   "cell_type": "markdown",
   "id": "7b342406-7ebf-4aa5-b646-938723dfca44",
   "metadata": {},
   "source": [
    "## Exercise Ans 24"
   ]
  },
  {
   "cell_type": "code",
   "execution_count": 12,
   "id": "6f1eedcb-59bc-4396-8355-e72e719a031e",
   "metadata": {},
   "outputs": [],
   "source": [
    "with open(\"data/log.txt\", \"r\") as f:\n",
    "    content = f.read()\n",
    "\n",
    "content = content.replace(\"error\", \"issue\")\n",
    "\n",
    "with open(\"log.txt\", \"w\") as f:\n",
    "    f.write(content)"
   ]
  },
  {
   "cell_type": "markdown",
   "id": "2cde2399-95c5-42ff-b441-a55db3cf4e8d",
   "metadata": {},
   "source": [
    "## Exercise Ans 25"
   ]
  },
  {
   "cell_type": "code",
   "execution_count": 13,
   "id": "9582be19-1d8a-480e-b8d5-69d53862e189",
   "metadata": {},
   "outputs": [],
   "source": [
    "with open(\"data/document.txt\", \"r\") as f:\n",
    "    content = f.read()"
   ]
  },
  {
   "cell_type": "markdown",
   "id": "d4cf32f1-e363-47e7-ac1e-927c3a71e96b",
   "metadata": {},
   "source": [
    "## Exercise Ans 26"
   ]
  },
  {
   "cell_type": "code",
   "execution_count": 14,
   "id": "db4139d1-5852-4394-98bc-a50cfaaee2f5",
   "metadata": {},
   "outputs": [
    {
     "name": "stdout",
     "output_type": "stream",
     "text": [
      "Lines: 1\n",
      "Words: 10\n",
      "Characters: 66\n"
     ]
    }
   ],
   "source": [
    "with open(\"data/essay.txt\", \"r\") as f:\n",
    "    lines = f.readlines()\n",
    "    words = sum(len(line.split()) for line in lines)\n",
    "    characters = sum(len(line) for line in lines)\n",
    "\n",
    "print(\"Lines:\", len(lines))\n",
    "print(\"Words:\", words)\n",
    "print(\"Characters:\", characters)"
   ]
  },
  {
   "cell_type": "markdown",
   "id": "56eafc01-f4b7-43c0-b2b1-db2860915f7c",
   "metadata": {},
   "source": [
    "## Exercise Ans 27"
   ]
  },
  {
   "cell_type": "code",
   "execution_count": 15,
   "id": "01c115aa-f50e-4e7d-b855-a199f094b424",
   "metadata": {},
   "outputs": [],
   "source": [
    "with open(\"data/source.txt\", \"r\") as src, open(\"destination.txt\", \"w\") as dest:\n",
    "    dest.write(src.read())"
   ]
  },
  {
   "cell_type": "markdown",
   "id": "1ef073da-2f13-47a5-a7d6-2fbe9f50cc30",
   "metadata": {},
   "source": [
    "## Exercise Ans 28"
   ]
  },
  {
   "cell_type": "code",
   "execution_count": 16,
   "id": "5b846a4e-9303-40eb-a31e-90baf204e537",
   "metadata": {},
   "outputs": [],
   "source": [
    "def count_lines(filename):\n",
    "    with open(filename, \"r\") as f:\n",
    "        return len(f.readlines())"
   ]
  },
  {
   "cell_type": "markdown",
   "id": "2dd22ad2-e81e-40b3-8dc5-b7d30402db3c",
   "metadata": {},
   "source": [
    "## Exercise Ans 29"
   ]
  },
  {
   "cell_type": "code",
   "execution_count": 17,
   "id": "2f3752c2-c66d-48c5-9952-74766c449f0d",
   "metadata": {},
   "outputs": [
    {
     "name": "stdout",
     "output_type": "stream",
     "text": [
      "['sample', 'article', 'applications.', 'multiple', 'lines.']\n"
     ]
    }
   ],
   "source": [
    "with open(\"data/article.txt\", \"r\") as f:\n",
    "    words = f.read().split()\n",
    "\n",
    "long_words = [word for word in words if len(word) > 5]\n",
    "print(long_words)"
   ]
  },
  {
   "cell_type": "markdown",
   "id": "55513e32-698c-4e62-bd30-8cae6e6a4ab7",
   "metadata": {},
   "source": [
    "## Exercise Ans 30"
   ]
  },
  {
   "cell_type": "code",
   "execution_count": 18,
   "id": "c45c0e77-b0cf-4794-b07d-ecb92b3f9c62",
   "metadata": {},
   "outputs": [],
   "source": [
    "with open(\"data/notes.txt\", \"r\") as f:\n",
    "    content = f.read().upper()\n",
    "\n",
    "with open(\"uppercase_notes.txt\", \"w\") as f:\n",
    "    f.write(content)"
   ]
  },
  {
   "cell_type": "markdown",
   "id": "81b08d89-b88a-43b8-8a68-3bb2fa3ba911",
   "metadata": {},
   "source": [
    "## Exercise Ans 31"
   ]
  },
  {
   "cell_type": "code",
   "execution_count": 20,
   "id": "ec8ae27d-4e84-4b53-8593-10e7e6cd8161",
   "metadata": {},
   "outputs": [
    {
     "name": "stdout",
     "output_type": "stream",
     "text": [
      "['Once upon a time in a land far away...\\n', 'This is a book excerpt.\\n']\n"
     ]
    }
   ],
   "source": [
    "def remove_empty_lines(file_name, output_file):\n",
    "    with open(file_name, 'r') as infile:\n",
    "        lines = infile.readlines()\n",
    "\n",
    "    non_empty_lines = [line for line in lines if line.strip() != '']\n",
    "\n",
    "    with open(output_file, 'w') as outfile:\n",
    "        outfile.writelines(non_empty_lines)\n",
    "        print(non_empty_lines)\n",
    "\n",
    "remove_empty_lines(\"data/book.txt\", \"data/output.txt\")"
   ]
  },
  {
   "cell_type": "markdown",
   "id": "b6a6cd77-5c07-4167-8f8d-22ac75540fc5",
   "metadata": {},
   "source": [
    "## Exercise Ans 32"
   ]
  },
  {
   "cell_type": "code",
   "execution_count": 21,
   "id": "35dff5a1-bb09-4a41-922a-6c815abb1c24",
   "metadata": {},
   "outputs": [],
   "source": [
    "f = open(\"data/config.txt\", \"r+\")\n",
    "# Use f.read() or f.write() as needed\n",
    "f.close()"
   ]
  },
  {
   "cell_type": "markdown",
   "id": "daa7551c-386d-46d5-8f1e-ac526ede1add",
   "metadata": {},
   "source": [
    "## Exercise Ans 33"
   ]
  },
  {
   "cell_type": "code",
   "execution_count": 24,
   "id": "678916da-fe7d-474d-9a9a-50dec9a37c93",
   "metadata": {},
   "outputs": [],
   "source": [
    "def longest_line(filename):\n",
    "    with open(filename, \"r\") as f:\n",
    "        return max(f, key=len)"
   ]
  },
  {
   "cell_type": "markdown",
   "id": "f2ee4147-4ff4-4764-966e-63be432ec095",
   "metadata": {},
   "source": [
    "## Exercise Ans 34"
   ]
  },
  {
   "cell_type": "code",
   "execution_count": 26,
   "id": "4585082c-6868-463d-8964-4c35377d1e60",
   "metadata": {},
   "outputs": [],
   "source": [
    "from collections import Counter\n",
    "with open(\"data/message.txt\", \"r\") as f:\n",
    "    text = f.read().lower()\n",
    "letter_freq = Counter(c for c in text if c.isalpha())"
   ]
  },
  {
   "cell_type": "markdown",
   "id": "b7eb2d41-a875-4239-bdeb-32e59917f607",
   "metadata": {},
   "source": [
    "## Exercise Ans 35"
   ]
  },
  {
   "cell_type": "code",
   "execution_count": 29,
   "id": "065be596-9587-40ef-8b89-7cd0c725da36",
   "metadata": {},
   "outputs": [
    {
     "name": "stdout",
     "output_type": "stream",
     "text": [
      "Total number of characters (spaces not included): 51\n"
     ]
    }
   ],
   "source": [
    "def count_characters_excluding_spaces(file_name):\n",
    "    with open(file_name, 'r') as file:\n",
    "        value = file.read()\n",
    "        value_no_spaces = value.replace(' ', '')\n",
    "        char_count = len(value_no_spaces)\n",
    "        print(f\"Total number of characters (spaces not included): {char_count}\")\n",
    "\n",
    "count_characters_excluding_spaces(\"data/book.txt\")"
   ]
  },
  {
   "cell_type": "markdown",
   "id": "63c3aec9-1a19-4cce-a0c6-ff371faaa5a0",
   "metadata": {},
   "source": [
    "## Exercise Ans 36"
   ]
  },
  {
   "cell_type": "code",
   "execution_count": 31,
   "id": "b3d0d9a1-4cbb-4cd4-a16e-82f057ac5146",
   "metadata": {},
   "outputs": [],
   "source": [
    "def is_file_empty(filename):\n",
    "    return os.stat(filename).st_size == 0"
   ]
  },
  {
   "cell_type": "markdown",
   "id": "416c6dc5-6f12-47c9-b67a-468da6e645ef",
   "metadata": {},
   "source": [
    "## Exercise Ans 37"
   ]
  },
  {
   "cell_type": "code",
   "execution_count": 32,
   "id": "2ed05f63-fc62-4077-87b0-2a3d63ccaf65",
   "metadata": {},
   "outputs": [],
   "source": [
    "import string\n",
    "def remove_punctuation(filename):\n",
    "    with open(filename, \"r\") as f:\n",
    "        text = f.read()\n",
    "    for p in string.punctuation:\n",
    "        text = text.replace(p, \"\")\n",
    "    return text"
   ]
  },
  {
   "cell_type": "markdown",
   "id": "220dc03e-04b6-4207-8df9-a986eb7949a7",
   "metadata": {},
   "source": [
    "## Exercise Ans 38"
   ]
  },
  {
   "cell_type": "code",
   "execution_count": 33,
   "id": "83312f87-8bae-4c84-b1c6-1f4fb8221093",
   "metadata": {},
   "outputs": [],
   "source": [
    "def write_lines(filename, lines):\n",
    "    with open(filename, \"w\") as f:\n",
    "        for line in lines:\n",
    "            f.write(line + \"\\n\")"
   ]
  },
  {
   "cell_type": "markdown",
   "id": "a2768b76-916c-42d9-9b71-4f9a99d0f719",
   "metadata": {},
   "source": [
    "## Exercise Ans 39"
   ]
  },
  {
   "cell_type": "code",
   "execution_count": 35,
   "id": "15766e6d-a844-4e60-bd8d-84fa1f2b8f49",
   "metadata": {},
   "outputs": [
    {
     "name": "stdout",
     "output_type": "stream",
     "text": [
      "Number of lines starting with 'O': 1\n"
     ]
    }
   ],
   "source": [
    "def count_lines_starting_with_letter(file_name, letter):\n",
    "    count = 0\n",
    "    with open(file_name, 'r') as file:\n",
    "        for line in file:\n",
    "            if line.strip().startswith(letter):\n",
    "                count += 1\n",
    "    print(f\"Number of lines starting with '{letter}': {count}\")\n",
    "\n",
    "count_lines_starting_with_letter(\"data/book.txt\", \"O\")"
   ]
  },
  {
   "cell_type": "markdown",
   "id": "5df95ac8-0aa4-4ead-8a4f-d721d104282c",
   "metadata": {},
   "source": [
    "## Exercise Ans 40"
   ]
  },
  {
   "cell_type": "code",
   "execution_count": 37,
   "id": "ac300f75-7f37-41a7-9c18-98d8184bbba3",
   "metadata": {},
   "outputs": [],
   "source": [
    "def write_reversed(filename, text):\n",
    "    with open(filename, \"w\") as f:\n",
    "        f.write(text[::-1])\n",
    "\n",
    "write_reversed(\"data/output.txt\", \"Hello World\")"
   ]
  },
  {
   "cell_type": "markdown",
   "id": "1b29222a-9868-43ea-acee-b1ad93e4e31f",
   "metadata": {},
   "source": [
    "## Exercise Ans 41"
   ]
  },
  {
   "cell_type": "code",
   "execution_count": 39,
   "id": "f48a973a-1440-43ad-a428-9834d93240d4",
   "metadata": {},
   "outputs": [],
   "source": [
    "def print_lines_with_python(file_name):\n",
    "    with open(file_name, 'r') as file:\n",
    "        for line in file:\n",
    "            if \"Python\" in line:\n",
    "                print(line.strip())\n",
    "\n",
    "print_lines_with_python(\"data/book.txt\")"
   ]
  },
  {
   "cell_type": "markdown",
   "id": "56575e7f-e1e0-4464-8ee0-4032ac9bf5d5",
   "metadata": {},
   "source": [
    "## Exercise Ans 42"
   ]
  },
  {
   "cell_type": "code",
   "execution_count": 41,
   "id": "b76d67fb-6089-4989-b9c1-67a5c538f3b2",
   "metadata": {},
   "outputs": [
    {
     "name": "stdout",
     "output_type": "stream",
     "text": [
      "['Once upon a time in a land far away...\\n', 'This is a book excerpt.\\n']\n"
     ]
    }
   ],
   "source": [
    "def remove_digits_from_file(file_name, output_file):\n",
    "    with open(file_name, 'r') as infile:\n",
    "        value = infile.read()\n",
    "    cleaned_value = ''.join(char for char in content if not char.isdigit())\n",
    "    with open(output_file, 'w') as outfile:\n",
    "        outfile.write(cleaned_value)\n",
    "\n",
    "remove_empty_lines(\"data/book.txt\", \"data/output.txt\")"
   ]
  },
  {
   "cell_type": "markdown",
   "id": "70916be3-d58f-4a1a-a768-05646a468fdb",
   "metadata": {},
   "source": [
    "## Exercise Ans 43"
   ]
  },
  {
   "cell_type": "code",
   "execution_count": 42,
   "id": "8c6f58f1-564a-4380-9961-9a237368a0e9",
   "metadata": {},
   "outputs": [
    {
     "name": "stdout",
     "output_type": "stream",
     "text": [
      "[('a', 3)]\n"
     ]
    }
   ],
   "source": [
    "from collections import Counter\n",
    "\n",
    "with open(\"data/book.txt\", \"r\") as f:\n",
    "    words = f.read().split()\n",
    "\n",
    "counter = Counter(words)\n",
    "print(counter.most_common(1))"
   ]
  },
  {
   "cell_type": "markdown",
   "id": "1a99d1c1-3bd8-49b2-9bbe-cced0592c504",
   "metadata": {},
   "source": [
    "## Exercise Ans 44"
   ]
  },
  {
   "cell_type": "code",
   "execution_count": 44,
   "id": "7b39eb47-187e-4229-b82d-d8c21a375e62",
   "metadata": {},
   "outputs": [
    {
     "name": "stdout",
     "output_type": "stream",
     "text": [
      "This is a book excerpt.\n"
     ]
    }
   ],
   "source": [
    "def print_lines_with_five_words(file_name):\n",
    "    with open(file_name, 'r') as file:\n",
    "        for line in file:\n",
    "            words = line.strip().split()\n",
    "            if len(words) == 5:\n",
    "                print(line.strip())\n",
    "\n",
    "print_lines_with_five_words(\"data/book.txt\")"
   ]
  },
  {
   "cell_type": "markdown",
   "id": "0d8eedc6-d8d8-4332-949d-72e94eae6893",
   "metadata": {},
   "source": [
    "## Exercise Ans 45"
   ]
  },
  {
   "cell_type": "code",
   "execution_count": 46,
   "id": "64cb17c2-b4dc-4b17-90fe-5eae6d77426c",
   "metadata": {},
   "outputs": [
    {
     "name": "stdout",
     "output_type": "stream",
     "text": [
      "First line: Once upon a time in a land far away...\n",
      "Last line: This is a book excerpt.\n"
     ]
    }
   ],
   "source": [
    "def print_first_and_last_line(file_name):\n",
    "    with open(file_name, 'r') as file:\n",
    "        lines = file.readlines()\n",
    "\n",
    "    if lines:\n",
    "        print(\"First line:\", lines[0].strip())\n",
    "        print(\"Last line:\", lines[-1].strip())\n",
    "    else:\n",
    "        print(\"The file is empty.\")\n",
    "\n",
    "print_first_and_last_line(\"data/book.txt\")"
   ]
  },
  {
   "cell_type": "markdown",
   "id": "51213d8f-1f37-4b85-baf7-a2d3984b5c1e",
   "metadata": {},
   "source": [
    "## Exercise Ans 46"
   ]
  },
  {
   "cell_type": "code",
   "execution_count": 47,
   "id": "e83f9221-e3c0-4474-b640-9c85afa2d3b3",
   "metadata": {},
   "outputs": [
    {
     "name": "stdout",
     "output_type": "stream",
     "text": [
      "The file 'data/book.txt' is writable.\n"
     ]
    }
   ],
   "source": [
    "import os\n",
    "\n",
    "def is_file_writable(file_name):\n",
    "    if os.path.exists(file_name):\n",
    "        if os.access(file_name, os.W_OK):\n",
    "            print(f\"The file '{file_name}' is writable.\")\n",
    "        else:\n",
    "            print(f\"The file '{file_name}' is not writable.\")\n",
    "    else:\n",
    "        print(f\"The file '{file_name}' does not exist.\")\n",
    "\n",
    "is_file_writable(\"data/book.txt\")"
   ]
  },
  {
   "cell_type": "markdown",
   "id": "c4b32168-f05c-4c2c-8f85-5794682ee4b0",
   "metadata": {},
   "source": [
    "## Exercise Ans 47"
   ]
  },
  {
   "cell_type": "code",
   "execution_count": 48,
   "id": "c97b4ab1-6408-41d1-8cd2-fcb80ca28a04",
   "metadata": {},
   "outputs": [
    {
     "data": {
      "text/plain": [
       "12"
      ]
     },
     "execution_count": 48,
     "metadata": {},
     "output_type": "execute_result"
    }
   ],
   "source": [
    "def unique_word_count(filename):\n",
    "    with open(filename, \"r\") as f:\n",
    "        words = f.read().lower().split()\n",
    "    return len(set(words))\n",
    "\n",
    "unique_word_count(\"data/book.txt\")"
   ]
  },
  {
   "cell_type": "markdown",
   "id": "b2c48686-bce8-4a83-b143-0c11ed62a688",
   "metadata": {},
   "source": [
    "## Exercise Ans 48"
   ]
  },
  {
   "cell_type": "code",
   "execution_count": 49,
   "id": "f3463976-61ec-4b44-8b55-270e9c272d18",
   "metadata": {},
   "outputs": [
    {
     "name": "stdout",
     "output_type": "stream",
     "text": [
      "This is a book excerpt.\n",
      "Once upon a time in a land far away...\n"
     ]
    }
   ],
   "source": [
    "def print_lines_in_reverse(file_name):\n",
    "    with open(file_name, 'r') as file:\n",
    "        lines = file.readlines()\n",
    "    for line in reversed(lines):\n",
    "        print(line.strip())\n",
    "\n",
    "print_lines_in_reverse(\"data/book.txt\")"
   ]
  },
  {
   "cell_type": "markdown",
   "id": "bdab71f2-c978-4e46-aa97-807ef5986a6b",
   "metadata": {},
   "source": [
    "## Exercise Ans 49"
   ]
  },
  {
   "cell_type": "code",
   "execution_count": 51,
   "id": "9b76d4c9-8c23-4264-8824-cadde4f7fd74",
   "metadata": {},
   "outputs": [
    {
     "data": {
      "text/plain": [
       "('a', 7)"
      ]
     },
     "execution_count": 51,
     "metadata": {},
     "output_type": "execute_result"
    }
   ],
   "source": [
    "def most_common_letter(filename):\n",
    "    with open(filename, \"r\") as f:\n",
    "        letters = [c.lower() for c in f.read() if c.isalpha()]\n",
    "    return Counter(letters).most_common(1)[0]\n",
    "\n",
    "most_common_letter(\"data/book.txt\")"
   ]
  },
  {
   "cell_type": "markdown",
   "id": "3a7e425d-41dd-4317-9e1e-ede4512981ac",
   "metadata": {},
   "source": [
    "## Exercise Ans 50"
   ]
  },
  {
   "cell_type": "code",
   "execution_count": 52,
   "id": "57a02644-8440-4d0a-b134-6ce9a77c1f48",
   "metadata": {},
   "outputs": [],
   "source": [
    "def replace_python_with_java(file_name, output_file):\n",
    "    with open(file_name, 'r') as file:\n",
    "        value = file.read()\n",
    "\n",
    "    updated_value = value.replace(\"Python\", \"Java\")\n",
    "\n",
    "    with open(output_file, 'w') as file:\n",
    "        file.write(updated_value)\n",
    "\n",
    "replace_python_with_java(\"data/book.txt\", \"data/output.txt\")"
   ]
  },
  {
   "cell_type": "code",
   "execution_count": null,
   "id": "2ee7b602-ff0b-47ef-b031-eccb9c3590df",
   "metadata": {},
   "outputs": [],
   "source": []
  }
 ],
 "metadata": {
  "kernelspec": {
   "display_name": "Python [conda env:base] *",
   "language": "python",
   "name": "conda-base-py"
  },
  "language_info": {
   "codemirror_mode": {
    "name": "ipython",
    "version": 3
   },
   "file_extension": ".py",
   "mimetype": "text/x-python",
   "name": "python",
   "nbconvert_exporter": "python",
   "pygments_lexer": "ipython3",
   "version": "3.12.7"
  }
 },
 "nbformat": 4,
 "nbformat_minor": 5
}
