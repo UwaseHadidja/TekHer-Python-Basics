{
 "cells": [
  {
   "cell_type": "markdown",
   "id": "426486dd",
   "metadata": {},
   "source": [
    "# Practical_1: Variables and Assignments"
   ]
  },
  {
   "cell_type": "markdown",
   "id": "9fb19f0d",
   "metadata": {},
   "source": [
    "----\n",
    "\n",
    "### Exercise 1:\n",
    "Declare a variable `x` and assign it the value `10`.\n",
    "\n",
    "```python\n",
    "# Exercise 1\n",
    "```\n",
    "\n",
    "---\n",
    "\n",
    "### Exercise 2:\n",
    "Assign the value `True` to a variable called `is_valid`.\n",
    "\n",
    "```python\n",
    "# Exercise 2\n",
    "```\n",
    "\n",
    "---\n",
    "\n",
    "### Exercise 3:\n",
    "Create a string variable `name` with the value \"Python Programming\".\n",
    "\n",
    "```python\n",
    "# Exercise 3\n",
    "```\n",
    "\n",
    "---\n",
    "\n",
    "### Exercise 4:\n",
    "Assign the result of `5 + 3` to a variable `sum_result`.\n",
    "\n",
    "```python\n",
    "# Exercise 4\n",
    "```\n",
    "\n",
    "---\n",
    "\n",
    "### Exercise 5:\n",
    "Assign multiple variables in one line: `a = 5`, `b = 10`, `c = 15`.\n",
    "\n",
    "```python\n",
    "# Exercise 5\n",
    "```\n",
    "\n",
    "---\n",
    "\n",
    "### Exercise 6:\n",
    "Assign the value of one variable `x` to another variable `y`.\n",
    "\n",
    "```python\n",
    "# Exercise 6\n",
    "```\n",
    "\n",
    "---\n",
    "\n",
    "### Exercise 7:\n",
    "Assign a floating-point number `9.8` to a variable `gravity`.\n",
    "\n",
    "```python\n",
    "# Exercise 7\n",
    "```\n",
    "\n",
    "---\n",
    "\n",
    "### Exercise 8:\n",
    "Create a variable `country` and assign it the string value of your favorite country.\n",
    "\n",
    "```python\n",
    "# Exercise 8\n",
    "```\n",
    "\n",
    "---\n",
    "\n",
    "### Exercise 9:\n",
    "Change the value of variable `age` from `25` to `26` in two separate steps.\n",
    "\n",
    "```python\n",
    "# Exercise 9\n",
    "```\n",
    "\n",
    "---\n",
    "\n",
    "### Exercise 10:\n",
    "Use one variable to store the result of subtracting two numbers `20 - 7`.\n",
    "\n",
    "```python\n",
    "# Exercise 10\n",
    "```\n",
    "\n",
    "---\n",
    "\n",
    "### Exercise 11:\n",
    "Assign an integer value and a floating-point value to two different variables.\n",
    "\n",
    "```python\n",
    "# Exercise 11\n",
    "```\n",
    "\n",
    "---\n",
    "\n",
    "### Exercise 12:\n",
    "Assign a boolean value `False` to a variable `is_completed`.\n",
    "\n",
    "```python\n",
    "# Exercise 12\n",
    "```\n",
    "\n",
    "---\n",
    "\n",
    "### Exercise 13:\n",
    "Swap the values of two variables `x` and `y`.\n",
    "\n",
    "```python\n",
    "# Exercise 13\n",
    "```\n",
    "\n",
    "---\n",
    "\n",
    "### Exercise 14:\n",
    "Assign a complex number `3 + 4j` to a variable `complex_num`.\n",
    "\n",
    "```python\n",
    "# Exercise 14\n",
    "```\n",
    "\n",
    "---\n",
    "\n",
    "### Exercise 15:\n",
    "Reassign a variable from an integer to a string.\n",
    "\n",
    "```python\n",
    "# Exercise 15\n",
    "```\n",
    "\n",
    "---\n",
    "\n",
    "### Exercise 16:\n",
    "Create two variables `first_name` and `last_name`, and assign them your first and last names.\n",
    "\n",
    "```python\n",
    "# Exercise 16\n",
    "```\n",
    "\n",
    "---\n",
    "\n",
    "### Exercise 17:\n",
    "Create a variable `temperature` and assign it the value of `35.5`.\n",
    "\n",
    "```python\n",
    "# Exercise 17\n",
    "```\n",
    "\n",
    "---\n",
    "\n",
    "### Exercise 18:\n",
    "Assign the result of the multiplication of two numbers `8 * 6` to a variable `product`.\n",
    "\n",
    "```python\n",
    "# Exercise 18\n",
    "```\n",
    "\n",
    "---\n",
    "\n",
    "### Exercise 19:\n",
    "Assign a sentence of your choice to a variable `sentence`.\n",
    "\n",
    "```python\n",
    "# Exercise 19\n",
    "```\n",
    "\n",
    "---\n",
    "\n",
    "### Exercise 20:\n",
    "Use an assignment to convert a string `'50'` into an integer variable `int_value`.\n",
    "\n",
    "```python\n",
    "# Exercise 20\n",
    "```\n",
    "\n",
    "---\n",
    "\n",
    "### Exercise 21:\n",
    "Assign the result of dividing `144` by `12` to a variable `quotient`.\n",
    "\n",
    "```python\n",
    "# Exercise 21\n",
    "```\n",
    "\n",
    "---\n",
    "\n",
    "### Exercise 22:\n",
    "Assign the remainder of `47 divided by 5` to a variable `remainder`.\n",
    "\n",
    "```python\n",
    "# Exercise 22\n",
    "```\n",
    "\n",
    "---\n",
    "\n",
    "### Exercise 23:\n",
    "Create a variable `is_student` and assign it the value `True`.\n",
    "\n",
    "```python\n",
    "# Exercise 23\n",
    "```\n",
    "\n",
    "---\n",
    "\n",
    "### Exercise 24:\n",
    "Use a variable to store the result of a modulo operation: `45 % 4`.\n",
    "\n",
    "```python\n",
    "# Exercise 24\n",
    "```\n",
    "\n",
    "---\n",
    "\n",
    "### Exercise 25:\n",
    "Create a variable `pi` and assign it the value `3.14159`.\n",
    "\n",
    "```python\n",
    "# Exercise 25\n",
    "```\n",
    "\n",
    "---\n",
    "\n",
    "### Exercise 26:\n",
    "Create two variables `length` and `width`, assign them values, and calculate the area of a rectangle.\n",
    "\n",
    "```python\n",
    "# Exercise 26\n",
    "```\n",
    "\n",
    "---\n",
    "\n",
    "### Exercise 27:\n",
    "Assign a negative number to a variable `negative_value`.\n",
    "\n",
    "```python\n",
    "# Exercise 27\n",
    "```\n",
    "\n",
    "---\n",
    "\n",
    "### Exercise 28:\n",
    "Assign a string containing a special character (e.g., \"Hello, World!\") to a variable `greeting`.\n",
    "\n",
    "```python\n",
    "# Exercise 28\n",
    "```\n",
    "\n",
    "---\n",
    "\n",
    "### Exercise 29:\n",
    "Create a variable `population` and assign it a large integer value (in billions).\n",
    "\n",
    "```python\n",
    "# Exercise 29\n",
    "```\n",
    "\n",
    "---\n",
    "\n",
    "### Exercise 30:\n",
    "Use a variable to store the result of raising `2` to the power of `8`.\n",
    "\n",
    "```python\n",
    "# Exercise 30\n",
    "```\n",
    "\n",
    "---\n",
    "\n",
    "### Exercise 31:\n",
    "Assign a list of your favorite fruits to a variable `fruits`.\n",
    "\n",
    "```python\n",
    "# Exercise 31\n",
    "```\n",
    "\n",
    "---\n",
    "\n",
    "### Exercise 32:\n",
    "Assign a tuple of three numbers to a variable `coordinates`.\n",
    "\n",
    "```python\n",
    "# Exercise 32\n",
    "```\n",
    "\n",
    "---\n",
    "\n",
    "### Exercise 33:\n",
    "Assign a dictionary with keys `name` and `age` to a variable `person`.\n",
    "\n",
    "```python\n",
    "# Exercise 33\n",
    "```\n",
    "\n",
    "---\n",
    "\n",
    "### Exercise 34:\n",
    "Use variables to store the sum of two floating-point numbers.\n",
    "\n",
    "```python\n",
    "# Exercise 34\n",
    "```\n",
    "\n",
    "---\n",
    "\n",
    "### Exercise 35:\n",
    "Create a variable `is_sunny` and assign it the result of a comparison `10 > 5`.\n",
    "\n",
    "```python\n",
    "# Exercise 35\n",
    "```\n",
    "\n",
    "---\n",
    "\n",
    "### Exercise 36:\n",
    "Assign a string and an integer to two different variables, then print both on one line.\n",
    "\n",
    "```python\n",
    "# Exercise 36\n",
    "```\n",
    "\n",
    "---\n",
    "\n",
    "### Exercise 37:\n",
    "Reassign a variable that originally held a number to a boolean value.\n",
    "\n",
    "```python\n",
    "# Exercise 37\n",
    "```\n",
    "\n",
    "---\n",
    "\n",
    "### Exercise 38:\n",
    "Create a variable `is_weekend` and assign it the result of `False`.\n",
    "\n",
    "```python\n",
    "# Exercise 38\n",
    "```\n",
    "\n",
    "---\n",
    "\n",
    "### Exercise 39:\n",
    "Assign a multi-line string to a variable `description`.\n",
    "\n",
    "```python\n",
    "# Exercise 39\n",
    "```\n",
    "\n",
    "---\n",
    "\n",
    "### Exercise 40:\n",
    "Use variables to store the result of the absolute value of `-25`.\n",
    "\n",
    "```python\n",
    "# Exercise 40\n",
    "```\n",
    "\n",
    "---\n",
    "\n",
    "### Exercise 41:\n",
    "Assign the result of a floor division `100 // 6` to a variable `floor_div_result`.\n",
    "\n",
    "```python\n",
    "# Exercise 41\n",
    "```\n",
    "\n",
    "---\n",
    "\n",
    "### Exercise 42:\n",
    "Assign the result of adding a floating-point number to an integer to a variable `mixed_sum`.\n",
    "\n",
    "```python\n",
    "# Exercise 42\n",
    "```\n",
    "\n",
    "---\n",
    "\n",
    "### Exercise 43:\n",
    "Use variables to store a combination of string concatenation.\n",
    "\n",
    "```python\n",
    "# Exercise 43\n",
    "```\n",
    "\n",
    "---\n",
    "\n",
    "### Exercise 44:\n",
    "Assign an empty list to a variable `empty_list`.\n",
    "\n",
    "```python\n",
    "# Exercise 44\n",
    "```\n",
    "\n",
    "---\n",
    "\n",
    "### Exercise 45:\n",
    "Assign a boolean value based on the comparison of two variables `a = 10` and `b = 15`.\n",
    "\n",
    "```python\n",
    "# Exercise 45\n",
    "```\n",
    "\n",
    "---\n",
    "\n",
    "### Exercise 46:\n",
    "Assign a long sentence to a variable and count its characters using `len()`.\n",
    "\n",
    "```python\n",
    "# Exercise 46\n",
    "```\n",
    "\n",
    "---\n",
    "\n",
    "### Exercise 47:\n",
    "Assign a fractional result `7 / 3` to a variable `division_result`.\n",
    "\n",
    "```python\n",
    "# Exercise 47\n",
    "```\n",
    "\n",
    "---\n",
    "\n",
    "### Exercise 48:\n",
    "Create a variable `speed` and assign it the value of 100 kilometers per hour.\n",
    "\n",
    "```python\n",
    "# Exercise 48\n",
    "```\n",
    "\n",
    "---\n",
    "\n",
    "### Exercise 49:\n",
    "Assign a multi-variable equation like `y = 3x + 5` where `x = 4` to a variable `y`.\n",
    "\n",
    "```python\n",
    "# Exercise 49\n",
    "```\n",
    "\n",
    "---\n",
    "\n",
    "### Exercise 50:\n",
    "Use variables to calculate and store the average of three numbers.\n",
    "\n",
    "```python\n",
    "# Exercise 50\n",
    "```\n",
    "\n",
    "****"
   ]
  },
  {
   "cell_type": "markdown",
   "id": "f4d62bc2-8a26-43a4-9fc0-dde554aa8993",
   "metadata": {},
   "source": [
    "## Exercise 1 Ans"
   ]
  },
  {
   "cell_type": "code",
   "execution_count": 46,
   "id": "c0ea9403-a872-4d77-bc8a-01588e9f459e",
   "metadata": {},
   "outputs": [],
   "source": [
    "x = 10"
   ]
  },
  {
   "cell_type": "markdown",
   "id": "be8285a8-676c-4e51-a4b7-1e1da4365bbf",
   "metadata": {},
   "source": [
    "## Exercise 2 Ans"
   ]
  },
  {
   "cell_type": "code",
   "execution_count": 47,
   "id": "933bb215-2ca6-438b-9e58-80a8b51a87de",
   "metadata": {},
   "outputs": [
    {
     "name": "stdout",
     "output_type": "stream",
     "text": [
      "True\n"
     ]
    }
   ],
   "source": [
    "is_valid = True\n",
    "print(is_valid) "
   ]
  },
  {
   "cell_type": "markdown",
   "id": "24081d41-6a20-4216-937b-5641224e0be4",
   "metadata": {},
   "source": [
    "## Exercise 3 Ans"
   ]
  },
  {
   "cell_type": "code",
   "execution_count": 48,
   "id": "401f9786-9420-4571-b634-1f960a26ece4",
   "metadata": {},
   "outputs": [],
   "source": [
    "name = \"Python Programming\""
   ]
  },
  {
   "cell_type": "markdown",
   "id": "3e3a753c-3e8f-4a4c-a05f-85f9ebd86e54",
   "metadata": {},
   "source": [
    "## Exercise 4 Ans"
   ]
  },
  {
   "cell_type": "code",
   "execution_count": 49,
   "id": "c38e76c3-f7ac-438c-b663-b1f3ceae5144",
   "metadata": {},
   "outputs": [],
   "source": [
    "sum_result = 5+3"
   ]
  },
  {
   "cell_type": "markdown",
   "id": "fe966a39-396e-496b-bde2-8fb2c5236b5c",
   "metadata": {},
   "source": [
    "## Exercise 5 Ans"
   ]
  },
  {
   "cell_type": "code",
   "execution_count": 50,
   "id": "28b7aec0-7bd6-46e8-8ffc-310af399ad54",
   "metadata": {},
   "outputs": [],
   "source": [
    "a, b, c = 5, 10, 15"
   ]
  },
  {
   "cell_type": "markdown",
   "id": "0f4f75ef-7ee9-460b-be63-287b9273a336",
   "metadata": {},
   "source": [
    "## Exercise 6 Ans"
   ]
  },
  {
   "cell_type": "code",
   "execution_count": 51,
   "id": "a2f15c4f-8d1d-4179-94d3-a8f7d1b99480",
   "metadata": {},
   "outputs": [],
   "source": [
    "y = x"
   ]
  },
  {
   "cell_type": "markdown",
   "id": "26ea35ef-974c-48cf-a036-64b9537e8c16",
   "metadata": {},
   "source": [
    "## Exercise 7 Ans"
   ]
  },
  {
   "cell_type": "code",
   "execution_count": 52,
   "id": "5738346b-1280-4eb5-8d6a-c8448ed7e3fa",
   "metadata": {},
   "outputs": [],
   "source": [
    "gravity = 9,8"
   ]
  },
  {
   "cell_type": "markdown",
   "id": "01e07eed-dc05-406d-8c1f-25a888b01f1d",
   "metadata": {},
   "source": [
    "## Exercise 8 Ans"
   ]
  },
  {
   "cell_type": "code",
   "execution_count": 53,
   "id": "27250acd-c983-43b4-a76b-e059dc03249b",
   "metadata": {},
   "outputs": [],
   "source": [
    "country =\"Rwanda\""
   ]
  },
  {
   "cell_type": "markdown",
   "id": "dbd0eeec-0dcb-4e89-b927-f680dd6f54f1",
   "metadata": {},
   "source": [
    "## Exercise 9 Ans"
   ]
  },
  {
   "cell_type": "code",
   "execution_count": 54,
   "id": "9c3da522-8499-4f92-bf7a-b5a9c984dedd",
   "metadata": {},
   "outputs": [],
   "source": [
    "Age = 25\n",
    "Age = 26"
   ]
  },
  {
   "cell_type": "markdown",
   "id": "b34911f4-0e5b-4788-95bc-d23ecdc17f7d",
   "metadata": {},
   "source": [
    "## Exercise 10 Ans"
   ]
  },
  {
   "cell_type": "code",
   "execution_count": 55,
   "id": "152ca1e6-e36a-4c95-9a28-ed96e64ff11e",
   "metadata": {},
   "outputs": [],
   "source": [
    "z = 20 - 7"
   ]
  },
  {
   "cell_type": "markdown",
   "id": "57b03de0-a481-45b5-829e-579be3cbb9de",
   "metadata": {},
   "source": [
    "## Exercise 11 Ans"
   ]
  },
  {
   "cell_type": "code",
   "execution_count": 56,
   "id": "402bb087-e2bd-4200-9af0-0fda88b45e50",
   "metadata": {},
   "outputs": [],
   "source": [
    "i = 3\n",
    "j = 4.5"
   ]
  },
  {
   "cell_type": "markdown",
   "id": "8f84df6e-1c38-4490-b07b-376e4995dc2a",
   "metadata": {},
   "source": [
    "## Exercise 12 Ans"
   ]
  },
  {
   "cell_type": "code",
   "execution_count": 57,
   "id": "75407bb9-737b-4757-a7e5-bc9cbefd1c11",
   "metadata": {},
   "outputs": [],
   "source": [
    "is_complete = False"
   ]
  },
  {
   "cell_type": "markdown",
   "id": "980af842-ba20-4cf3-b950-bcf17100dc98",
   "metadata": {},
   "source": [
    "## Exercise 13 Ans"
   ]
  },
  {
   "cell_type": "code",
   "execution_count": 58,
   "id": "d0e3b84b-580a-4023-bd26-15d3a09ee18d",
   "metadata": {},
   "outputs": [
    {
     "name": "stdout",
     "output_type": "stream",
     "text": [
      "15 14\n"
     ]
    }
   ],
   "source": [
    "x, y = 14, 15\n",
    "x = x + y\n",
    "y = x - y\n",
    "x = x - y\n",
    "print (x,y)"
   ]
  },
  {
   "cell_type": "markdown",
   "id": "64990e3e-64e6-4cad-a72a-56bbcdc483c7",
   "metadata": {},
   "source": [
    "## Exercise 14 Ans"
   ]
  },
  {
   "cell_type": "code",
   "execution_count": 59,
   "id": "eefecde5-2360-4e8c-bdf0-af602ccd8ec4",
   "metadata": {},
   "outputs": [],
   "source": [
    "complex_num = 3 + 4j"
   ]
  },
  {
   "cell_type": "markdown",
   "id": "afa1f18e-f94e-4ae2-938b-317dec2b827d",
   "metadata": {},
   "source": [
    "## Exercise 15 Ans"
   ]
  },
  {
   "cell_type": "code",
   "execution_count": 60,
   "id": "71c8b2af-b634-417e-88cf-f32d1a127062",
   "metadata": {},
   "outputs": [],
   "source": [
    "m = 15\n",
    "m = str(m)"
   ]
  },
  {
   "cell_type": "markdown",
   "id": "4bed20c6-179d-4e27-88b1-5b196a8d801a",
   "metadata": {},
   "source": [
    "## Exercise 16 Ans\n"
   ]
  },
  {
   "cell_type": "code",
   "execution_count": 61,
   "id": "5a3313f5-ee4d-409f-bf7e-4226eafbe63e",
   "metadata": {},
   "outputs": [],
   "source": [
    "First_name = 'Hadidja'\n",
    "last_name = 'UWASE'"
   ]
  },
  {
   "cell_type": "markdown",
   "id": "5a8ae271-d9a6-41a7-ba74-78304c644aab",
   "metadata": {},
   "source": [
    "## Exercise 17 Ans"
   ]
  },
  {
   "cell_type": "code",
   "execution_count": 62,
   "id": "4bde98d7-4388-4517-a131-ba8ade17a1df",
   "metadata": {},
   "outputs": [],
   "source": [
    "temperature = 35.5"
   ]
  },
  {
   "cell_type": "markdown",
   "id": "3aaf2766-b65a-485d-9bcb-6909d9169298",
   "metadata": {},
   "source": [
    "## Exercise 18 Ans"
   ]
  },
  {
   "cell_type": "code",
   "execution_count": 63,
   "id": "460ddafc-12f0-4582-b7fc-59a322d2ef8f",
   "metadata": {},
   "outputs": [],
   "source": [
    "product = 8 + 6"
   ]
  },
  {
   "cell_type": "markdown",
   "id": "0223fbf9-8bc5-422a-bfa0-5b88bbece1f3",
   "metadata": {},
   "source": [
    "## Exercise 19 Ans"
   ]
  },
  {
   "cell_type": "code",
   "execution_count": 64,
   "id": "b8ce33df-dbf6-452d-8798-55baa0e2dc70",
   "metadata": {},
   "outputs": [],
   "source": [
    "sentence = \"I love coding\""
   ]
  },
  {
   "cell_type": "markdown",
   "id": "7332029a-1b6f-49b4-a1d0-58c235878e98",
   "metadata": {},
   "source": [
    "## Exercise 20 Ans"
   ]
  },
  {
   "cell_type": "code",
   "execution_count": 65,
   "id": "43d151fe-aa57-410f-bb7d-fed0cf061166",
   "metadata": {},
   "outputs": [],
   "source": [
    "int_value = int('50')"
   ]
  },
  {
   "cell_type": "markdown",
   "id": "bd28b507-93b9-44ac-a823-2fcbdf23bd2b",
   "metadata": {},
   "source": [
    "## Exercise 21 Ans"
   ]
  },
  {
   "cell_type": "code",
   "execution_count": 66,
   "id": "7e9f587c-f507-450d-a3bc-7e53f139d95c",
   "metadata": {},
   "outputs": [],
   "source": [
    "quotient = 114/12"
   ]
  },
  {
   "cell_type": "markdown",
   "id": "9d816566-f3ee-4e5a-a140-3c909c7b6743",
   "metadata": {},
   "source": [
    "## Exercise 22 Ans"
   ]
  },
  {
   "cell_type": "code",
   "execution_count": 67,
   "id": "d86b7941-d98c-4640-bca7-e1194c895131",
   "metadata": {},
   "outputs": [],
   "source": [
    "remainder = 47 % 5"
   ]
  },
  {
   "cell_type": "markdown",
   "id": "3cc598c5-e68c-4bea-b380-f1c047d69519",
   "metadata": {},
   "source": [
    "## Exercise 23 Ans"
   ]
  },
  {
   "cell_type": "code",
   "execution_count": 68,
   "id": "c8f577b3-3fd4-41ab-b960-abc6512841a7",
   "metadata": {},
   "outputs": [
    {
     "name": "stdout",
     "output_type": "stream",
     "text": [
      "True\n"
     ]
    }
   ],
   "source": [
    "is_student = True\n",
    "print (is_student)"
   ]
  },
  {
   "cell_type": "markdown",
   "id": "864222d3-5211-4daa-8fea-14c4ffc668e4",
   "metadata": {},
   "source": [
    "## Exercise 24 Ans"
   ]
  },
  {
   "cell_type": "code",
   "execution_count": 69,
   "id": "447d62b8-1c99-4832-9779-caa3765a19ce",
   "metadata": {},
   "outputs": [
    {
     "name": "stdout",
     "output_type": "stream",
     "text": [
      "1\n"
     ]
    }
   ],
   "source": [
    "modulo_operation = 45 % 4\n",
    "print(modulo_operation)"
   ]
  },
  {
   "cell_type": "markdown",
   "id": "fa2fc402-79eb-4551-80cb-a65e199a70e1",
   "metadata": {},
   "source": [
    "## Exercise 25 Ans"
   ]
  },
  {
   "cell_type": "code",
   "execution_count": 70,
   "id": "6468c6ac-a67f-469b-9b7a-d758099dbc61",
   "metadata": {},
   "outputs": [],
   "source": [
    "pi = 3.14159"
   ]
  },
  {
   "cell_type": "markdown",
   "id": "fe544aaf-0267-4dcb-9162-c71cf6c38d08",
   "metadata": {},
   "source": [
    "## Exercise 26 Ans"
   ]
  },
  {
   "cell_type": "code",
   "execution_count": 71,
   "id": "78d62a98-ff0c-4f1f-acdd-13bdbb764de4",
   "metadata": {},
   "outputs": [
    {
     "name": "stdout",
     "output_type": "stream",
     "text": [
      "200\n"
     ]
    }
   ],
   "source": [
    "length = 20\n",
    "width = 10\n",
    "Area = length*width\n",
    "print(Area)"
   ]
  },
  {
   "cell_type": "markdown",
   "id": "f149b951-f37e-4fec-ae0a-fac5ef3c9ce9",
   "metadata": {},
   "source": [
    "## Exercise 27 Ans"
   ]
  },
  {
   "cell_type": "code",
   "execution_count": 72,
   "id": "55f88fbb-7861-4921-88d6-b9a49f9b868f",
   "metadata": {},
   "outputs": [
    {
     "data": {
      "text/plain": [
       "-25"
      ]
     },
     "execution_count": 72,
     "metadata": {},
     "output_type": "execute_result"
    }
   ],
   "source": [
    "negative_value =-25\n",
    "negative_value"
   ]
  },
  {
   "cell_type": "markdown",
   "id": "432e90d3-50da-40f7-8043-3695288690b6",
   "metadata": {},
   "source": [
    "## Exercise 28 Ans"
   ]
  },
  {
   "cell_type": "code",
   "execution_count": 73,
   "id": "36c92ce8-74c9-4e73-bbe8-c40b14fdae25",
   "metadata": {},
   "outputs": [],
   "source": [
    "greeting =\"Hello, World \""
   ]
  },
  {
   "cell_type": "markdown",
   "id": "f2affebe-b16c-4fcf-9848-95eb0eb518a9",
   "metadata": {},
   "source": [
    "## Exercise 29 Ans"
   ]
  },
  {
   "cell_type": "code",
   "execution_count": 74,
   "id": "4877f9fe-cb9c-41b1-8803-051c75a85f9d",
   "metadata": {},
   "outputs": [],
   "source": [
    "population = 2,567,908,000"
   ]
  },
  {
   "cell_type": "markdown",
   "id": "e9c9299b-d0a1-4a98-a1ef-15b783d0ecf9",
   "metadata": {},
   "source": [
    "## Exercise 30 Ans"
   ]
  },
  {
   "cell_type": "code",
   "execution_count": 75,
   "id": "ef7c19c7-9b15-4edb-b9fa-3097b1a1d779",
   "metadata": {},
   "outputs": [
    {
     "name": "stdout",
     "output_type": "stream",
     "text": [
      "256\n"
     ]
    }
   ],
   "source": [
    "k = 2**8\n",
    "print(k)"
   ]
  },
  {
   "cell_type": "markdown",
   "id": "3df77462-ba5e-4e16-b7b8-e7208fb108d2",
   "metadata": {},
   "source": [
    "## Exercise 31 Ans"
   ]
  },
  {
   "cell_type": "code",
   "execution_count": 77,
   "id": "610e8980-5895-4064-9bfc-9d673a6d42f2",
   "metadata": {},
   "outputs": [],
   "source": [
    "fruits =['orange','lemon', 'apricot']"
   ]
  },
  {
   "cell_type": "markdown",
   "id": "12d1fa03-5f03-40d7-a29d-1e7f46e572d8",
   "metadata": {},
   "source": [
    "## Exercise 32 Ans"
   ]
  },
  {
   "cell_type": "code",
   "execution_count": null,
   "id": "e909599a-7e2c-48cb-9c41-91f0535e178f",
   "metadata": {},
   "outputs": [],
   "source": [
    "coordinates = (10,20,30)"
   ]
  },
  {
   "cell_type": "markdown",
   "id": "e980045b-c577-4152-96b4-f411e307e3f2",
   "metadata": {},
   "source": [
    "## Exercise 33 Ans"
   ]
  },
  {
   "cell_type": "code",
   "execution_count": null,
   "id": "47d84afc-80d6-4b6f-9956-d3eaa8c9c38e",
   "metadata": {},
   "outputs": [],
   "source": [
    "person = {'Name': 'Haddy', 'Age': '25'}"
   ]
  },
  {
   "cell_type": "markdown",
   "id": "b6b07f90-c525-406d-9615-ba380b6e17fd",
   "metadata": {},
   "source": [
    "## Exercise 34 Ans"
   ]
  },
  {
   "cell_type": "code",
   "execution_count": null,
   "id": "9b50f2a9-6398-466b-9e5e-daa5070fa496",
   "metadata": {},
   "outputs": [],
   "source": [
    "a = 3.4\n",
    "b = 1.5\n",
    "sum = a + b"
   ]
  },
  {
   "cell_type": "markdown",
   "id": "b4b2b952-0ed9-4327-ba6a-007d4ccf5367",
   "metadata": {},
   "source": [
    "## Exercise 35 Ans"
   ]
  },
  {
   "cell_type": "code",
   "execution_count": null,
   "id": "3a4855b1-476f-4176-9243-c903851b443b",
   "metadata": {},
   "outputs": [],
   "source": [
    "is_sunny = 10 > 5"
   ]
  },
  {
   "cell_type": "markdown",
   "id": "5c15adc6-00e3-4dcb-894a-88dad8a58ff2",
   "metadata": {},
   "source": [
    "## Exercise 36 Ans"
   ]
  },
  {
   "cell_type": "code",
   "execution_count": null,
   "id": "6db9f162-df1d-47b1-b65e-d80cddc55666",
   "metadata": {},
   "outputs": [],
   "source": [
    "myage = \"my age is\"\n",
    "age = 25\n",
    "print(myage, age)"
   ]
  },
  {
   "cell_type": "markdown",
   "id": "81f2ddc8-1e4b-4dee-b889-f25a25212ecb",
   "metadata": {},
   "source": [
    "## Exercise 37 Ans"
   ]
  },
  {
   "cell_type": "code",
   "execution_count": null,
   "id": "fcfd879d-807e-4bcc-b5f2-a4729114543a",
   "metadata": {},
   "outputs": [],
   "source": [
    "var1 = 23  \n",
    "var2 = True"
   ]
  },
  {
   "cell_type": "markdown",
   "id": "49f18569-7dae-4d0b-8dc1-c98c08c5e75d",
   "metadata": {},
   "source": [
    "## Exercise 38 Ans"
   ]
  },
  {
   "cell_type": "code",
   "execution_count": null,
   "id": "34e82958-d3fb-4c4a-8a41-fb48212f5268",
   "metadata": {},
   "outputs": [],
   "source": [
    "is_weekend = False"
   ]
  },
  {
   "cell_type": "markdown",
   "id": "9563f144-78c5-419a-b0f1-35f27f7f12dd",
   "metadata": {},
   "source": [
    "## Exercise 39 Ans"
   ]
  },
  {
   "cell_type": "code",
   "execution_count": null,
   "id": "cb771ba3-ed87-4f41-89e8-940241ab9694",
   "metadata": {},
   "outputs": [],
   "source": [
    "description = \"\"\" I love \n",
    "dancing \n",
    "amapiano.\"\"\""
   ]
  },
  {
   "cell_type": "markdown",
   "id": "bdaf2da5-b2e7-4dc2-a05b-7b2339a5d8d9",
   "metadata": {},
   "source": [
    "## Exercise 40 Ans"
   ]
  },
  {
   "cell_type": "code",
   "execution_count": null,
   "id": "3612e31c-a26d-46e2-b8d9-123efe1f497a",
   "metadata": {},
   "outputs": [],
   "source": [
    "absolute = abs(-25)"
   ]
  },
  {
   "cell_type": "markdown",
   "id": "8d5bbf4a-8a46-433a-a539-e75e14f5dc27",
   "metadata": {},
   "source": [
    "## Exercise 41 Ans"
   ]
  },
  {
   "cell_type": "code",
   "execution_count": null,
   "id": "6c66da3a-a596-45c8-bc20-4af07333e51e",
   "metadata": {},
   "outputs": [],
   "source": [
    "floor_div_result = 100 // 6"
   ]
  },
  {
   "cell_type": "markdown",
   "id": "b0d7c3a2-27ec-4aa5-a74a-ac32226dc021",
   "metadata": {},
   "source": [
    "## Exercise 42 Ans"
   ]
  },
  {
   "cell_type": "code",
   "execution_count": null,
   "id": "8582707d-0f09-43d8-a630-7d5b74f3f8fc",
   "metadata": {},
   "outputs": [],
   "source": [
    "sum = 10 + 4.5"
   ]
  },
  {
   "cell_type": "markdown",
   "id": "d0d10c97-dce3-46fc-b801-57a523d41ecb",
   "metadata": {},
   "source": [
    "## Exercise 43 Ans"
   ]
  },
  {
   "cell_type": "code",
   "execution_count": null,
   "id": "b831ff54-d7cc-4c00-8fe9-bfcd19ca63d9",
   "metadata": {},
   "outputs": [],
   "source": [
    "string1 = \"God is\"\n",
    "string2 = \"Good\"\n",
    "string_ = string1 + string2"
   ]
  },
  {
   "cell_type": "markdown",
   "id": "d5c8269f-de0d-409b-bfc4-6005b001b918",
   "metadata": {},
   "source": [
    "## Exercise 44 Ans"
   ]
  },
  {
   "cell_type": "code",
   "execution_count": null,
   "id": "e3065d78-948a-4480-85db-7681ee3c9248",
   "metadata": {},
   "outputs": [],
   "source": [
    "empty_list = []"
   ]
  },
  {
   "cell_type": "markdown",
   "id": "966ed0fc-6cb9-470f-b566-1a80356a3b4d",
   "metadata": {},
   "source": [
    "## Exercise 45 Ans"
   ]
  },
  {
   "cell_type": "code",
   "execution_count": null,
   "id": "3c996268-12cc-4a78-b386-93d3ce5c1094",
   "metadata": {},
   "outputs": [],
   "source": [
    "a = 2\n",
    "b = 3\n",
    "less = 2 < 3"
   ]
  },
  {
   "cell_type": "markdown",
   "id": "f1127563-2982-485d-8624-c181e75add78",
   "metadata": {},
   "source": [
    "## Exercise 46 Ans"
   ]
  },
  {
   "cell_type": "code",
   "execution_count": null,
   "id": "a3371bf3-a770-4e93-8266-7e606686e1a9",
   "metadata": {},
   "outputs": [],
   "source": [
    "longsentence = \" Have you ever been in a situation where there is no one beside\"\n",
    "len = len(longsentence)"
   ]
  },
  {
   "cell_type": "markdown",
   "id": "cbfd57cc-c7ad-463c-8f0d-5309ec20c60d",
   "metadata": {},
   "source": [
    "## Exercise 47 Ans"
   ]
  },
  {
   "cell_type": "code",
   "execution_count": null,
   "id": "62566028-a549-4c7f-a651-6cb4d6d84d31",
   "metadata": {},
   "outputs": [],
   "source": [
    "division_result = 7 / 3"
   ]
  },
  {
   "cell_type": "markdown",
   "id": "c4a41686-d96a-4e83-b2b1-ce0e3d6c760e",
   "metadata": {},
   "source": [
    "## Exercise 48 Ans"
   ]
  },
  {
   "cell_type": "code",
   "execution_count": null,
   "id": "2a804162-9593-4665-b7e8-419c41d6b723",
   "metadata": {},
   "outputs": [],
   "source": [
    "speed = 100"
   ]
  },
  {
   "cell_type": "markdown",
   "id": "5943dbca-bceb-454b-b5fb-4d4d6101e5e9",
   "metadata": {},
   "source": [
    "## Exercise 49 Ans"
   ]
  },
  {
   "cell_type": "code",
   "execution_count": null,
   "id": "8bf23694-630f-4f50-a690-1b5751e9f850",
   "metadata": {},
   "outputs": [],
   "source": [
    "x = 4\n",
    "y = 3 * x + 5"
   ]
  },
  {
   "cell_type": "markdown",
   "id": "cf5d458e-35e0-4583-b5e4-0fa20e80fa4e",
   "metadata": {},
   "source": [
    "## Exercise 50 Ans"
   ]
  },
  {
   "cell_type": "code",
   "execution_count": null,
   "id": "baf9b2a1-58b5-48f6-b3c3-ec31e4fa6230",
   "metadata": {},
   "outputs": [],
   "source": [
    "num1 = 10\n",
    "num2 =  15 \n",
    "num3 = 20\n",
    "average = (num1 + num2 + num3) /3 "
   ]
  }
 ],
 "metadata": {
  "kernelspec": {
   "display_name": "Python [conda env:base] *",
   "language": "python",
   "name": "conda-base-py"
  },
  "language_info": {
   "codemirror_mode": {
    "name": "ipython",
    "version": 3
   },
   "file_extension": ".py",
   "mimetype": "text/x-python",
   "name": "python",
   "nbconvert_exporter": "python",
   "pygments_lexer": "ipython3",
   "version": "3.12.7"
  }
 },
 "nbformat": 4,
 "nbformat_minor": 5
}
