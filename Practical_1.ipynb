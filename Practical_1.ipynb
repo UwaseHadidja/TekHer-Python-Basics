{
 "cells": [
  {
   "cell_type": "markdown",
   "id": "426486dd",
   "metadata": {},
   "source": [
    "# Practical_1: Variables and Assignments"
   ]
  },
  {
   "cell_type": "markdown",
   "id": "9fb19f0d",
   "metadata": {},
   "source": [
    "----\n",
    "\n",
    "### Exercise 1:\n",
    "Declare a variable `x` and assign it the value `10`.\n",
    "\n",
    "```python\n",
    "# Exercise 1\n",
    "```\n",
    "\n",
    "---\n",
    "\n",
    "### Exercise 2:\n",
    "Assign the value `True` to a variable called `is_valid`.\n",
    "\n",
    "```python\n",
    "# Exercise 2\n",
    "```\n",
    "\n",
    "---\n",
    "\n",
    "### Exercise 3:\n",
    "Create a string variable `name` with the value \"Python Programming\".\n",
    "\n",
    "```python\n",
    "# Exercise 3\n",
    "```\n",
    "\n",
    "---\n",
    "\n",
    "### Exercise 4:\n",
    "Assign the result of `5 + 3` to a variable `sum_result`.\n",
    "\n",
    "```python\n",
    "# Exercise 4\n",
    "```\n",
    "\n",
    "---\n",
    "\n",
    "### Exercise 5:\n",
    "Assign multiple variables in one line: `a = 5`, `b = 10`, `c = 15`.\n",
    "\n",
    "```python\n",
    "# Exercise 5\n",
    "```\n",
    "\n",
    "---\n",
    "\n",
    "### Exercise 6:\n",
    "Assign the value of one variable `x` to another variable `y`.\n",
    "\n",
    "```python\n",
    "# Exercise 6\n",
    "```\n",
    "\n",
    "---\n",
    "\n",
    "### Exercise 7:\n",
    "Assign a floating-point number `9.8` to a variable `gravity`.\n",
    "\n",
    "```python\n",
    "# Exercise 7\n",
    "```\n",
    "\n",
    "---\n",
    "\n",
    "### Exercise 8:\n",
    "Create a variable `country` and assign it the string value of your favorite country.\n",
    "\n",
    "```python\n",
    "# Exercise 8\n",
    "```\n",
    "\n",
    "---\n",
    "\n",
    "### Exercise 9:\n",
    "Change the value of variable `age` from `25` to `26` in two separate steps.\n",
    "\n",
    "```python\n",
    "# Exercise 9\n",
    "```\n",
    "\n",
    "---\n",
    "\n",
    "### Exercise 10:\n",
    "Use one variable to store the result of subtracting two numbers `20 - 7`.\n",
    "\n",
    "```python\n",
    "# Exercise 10\n",
    "```\n",
    "\n",
    "---\n",
    "\n",
    "### Exercise 11:\n",
    "Assign an integer value and a floating-point value to two different variables.\n",
    "\n",
    "```python\n",
    "# Exercise 11\n",
    "```\n",
    "\n",
    "---\n",
    "\n",
    "### Exercise 12:\n",
    "Assign a boolean value `False` to a variable `is_completed`.\n",
    "\n",
    "```python\n",
    "# Exercise 12\n",
    "```\n",
    "\n",
    "---\n",
    "\n",
    "### Exercise 13:\n",
    "Swap the values of two variables `x` and `y`.\n",
    "\n",
    "```python\n",
    "# Exercise 13\n",
    "```\n",
    "\n",
    "---\n",
    "\n",
    "### Exercise 14:\n",
    "Assign a complex number `3 + 4j` to a variable `complex_num`.\n",
    "\n",
    "```python\n",
    "# Exercise 14\n",
    "```\n",
    "\n",
    "---\n",
    "\n",
    "### Exercise 15:\n",
    "Reassign a variable from an integer to a string.\n",
    "\n",
    "```python\n",
    "# Exercise 15\n",
    "```\n",
    "\n",
    "---\n",
    "\n",
    "### Exercise 16:\n",
    "Create two variables `first_name` and `last_name`, and assign them your first and last names.\n",
    "\n",
    "```python\n",
    "# Exercise 16\n",
    "```\n",
    "\n",
    "---\n",
    "\n",
    "### Exercise 17:\n",
    "Create a variable `temperature` and assign it the value of `35.5`.\n",
    "\n",
    "```python\n",
    "# Exercise 17\n",
    "```\n",
    "\n",
    "---\n",
    "\n",
    "### Exercise 18:\n",
    "Assign the result of the multiplication of two numbers `8 * 6` to a variable `product`.\n",
    "\n",
    "```python\n",
    "# Exercise 18\n",
    "```\n",
    "\n",
    "---\n",
    "\n",
    "### Exercise 19:\n",
    "Assign a sentence of your choice to a variable `sentence`.\n",
    "\n",
    "```python\n",
    "# Exercise 19\n",
    "```\n",
    "\n",
    "---\n",
    "\n",
    "### Exercise 20:\n",
    "Use an assignment to convert a string `'50'` into an integer variable `int_value`.\n",
    "\n",
    "```python\n",
    "# Exercise 20\n",
    "```\n",
    "\n",
    "---\n",
    "\n",
    "### Exercise 21:\n",
    "Assign the result of dividing `144` by `12` to a variable `quotient`.\n",
    "\n",
    "```python\n",
    "# Exercise 21\n",
    "```\n",
    "\n",
    "---\n",
    "\n",
    "### Exercise 22:\n",
    "Assign the remainder of `47 divided by 5` to a variable `remainder`.\n",
    "\n",
    "```python\n",
    "# Exercise 22\n",
    "```\n",
    "\n",
    "---\n",
    "\n",
    "### Exercise 23:\n",
    "Create a variable `is_student` and assign it the value `True`.\n",
    "\n",
    "```python\n",
    "# Exercise 23\n",
    "```\n",
    "\n",
    "---\n",
    "\n",
    "### Exercise 24:\n",
    "Use a variable to store the result of a modulo operation: `45 % 4`.\n",
    "\n",
    "```python\n",
    "# Exercise 24\n",
    "```\n",
    "\n",
    "---\n",
    "\n",
    "### Exercise 25:\n",
    "Create a variable `pi` and assign it the value `3.14159`.\n",
    "\n",
    "```python\n",
    "# Exercise 25\n",
    "```\n",
    "\n",
    "---\n",
    "\n",
    "### Exercise 26:\n",
    "Create two variables `length` and `width`, assign them values, and calculate the area of a rectangle.\n",
    "\n",
    "```python\n",
    "# Exercise 26\n",
    "```\n",
    "\n",
    "---\n",
    "\n",
    "### Exercise 27:\n",
    "Assign a negative number to a variable `negative_value`.\n",
    "\n",
    "```python\n",
    "# Exercise 27\n",
    "```\n",
    "\n",
    "---\n",
    "\n",
    "### Exercise 28:\n",
    "Assign a string containing a special character (e.g., \"Hello, World!\") to a variable `greeting`.\n",
    "\n",
    "```python\n",
    "# Exercise 28\n",
    "```\n",
    "\n",
    "---\n",
    "\n",
    "### Exercise 29:\n",
    "Create a variable `population` and assign it a large integer value (in billions).\n",
    "\n",
    "```python\n",
    "# Exercise 29\n",
    "```\n",
    "\n",
    "---\n",
    "\n",
    "### Exercise 30:\n",
    "Use a variable to store the result of raising `2` to the power of `8`.\n",
    "\n",
    "```python\n",
    "# Exercise 30\n",
    "```\n",
    "\n",
    "---\n",
    "\n",
    "### Exercise 31:\n",
    "Assign a list of your favorite fruits to a variable `fruits`.\n",
    "\n",
    "```python\n",
    "# Exercise 31\n",
    "```\n",
    "\n",
    "---\n",
    "\n",
    "### Exercise 32:\n",
    "Assign a tuple of three numbers to a variable `coordinates`.\n",
    "\n",
    "```python\n",
    "# Exercise 32\n",
    "```\n",
    "\n",
    "---\n",
    "\n",
    "### Exercise 33:\n",
    "Assign a dictionary with keys `name` and `age` to a variable `person`.\n",
    "\n",
    "```python\n",
    "# Exercise 33\n",
    "```\n",
    "\n",
    "---\n",
    "\n",
    "### Exercise 34:\n",
    "Use variables to store the sum of two floating-point numbers.\n",
    "\n",
    "```python\n",
    "# Exercise 34\n",
    "```\n",
    "\n",
    "---\n",
    "\n",
    "### Exercise 35:\n",
    "Create a variable `is_sunny` and assign it the result of a comparison `10 > 5`.\n",
    "\n",
    "```python\n",
    "# Exercise 35\n",
    "```\n",
    "\n",
    "---\n",
    "\n",
    "### Exercise 36:\n",
    "Assign a string and an integer to two different variables, then print both on one line.\n",
    "\n",
    "```python\n",
    "# Exercise 36\n",
    "```\n",
    "\n",
    "---\n",
    "\n",
    "### Exercise 37:\n",
    "Reassign a variable that originally held a number to a boolean value.\n",
    "\n",
    "```python\n",
    "# Exercise 37\n",
    "```\n",
    "\n",
    "---\n",
    "\n",
    "### Exercise 38:\n",
    "Create a variable `is_weekend` and assign it the result of `False`.\n",
    "\n",
    "```python\n",
    "# Exercise 38\n",
    "```\n",
    "\n",
    "---\n",
    "\n",
    "### Exercise 39:\n",
    "Assign a multi-line string to a variable `description`.\n",
    "\n",
    "```python\n",
    "# Exercise 39\n",
    "```\n",
    "\n",
    "---\n",
    "\n",
    "### Exercise 40:\n",
    "Use variables to store the result of the absolute value of `-25`.\n",
    "\n",
    "```python\n",
    "# Exercise 40\n",
    "```\n",
    "\n",
    "---\n",
    "\n",
    "### Exercise 41:\n",
    "Assign the result of a floor division `100 // 6` to a variable `floor_div_result`.\n",
    "\n",
    "```python\n",
    "# Exercise 41\n",
    "```\n",
    "\n",
    "---\n",
    "\n",
    "### Exercise 42:\n",
    "Assign the result of adding a floating-point number to an integer to a variable `mixed_sum`.\n",
    "\n",
    "```python\n",
    "# Exercise 42\n",
    "```\n",
    "\n",
    "---\n",
    "\n",
    "### Exercise 43:\n",
    "Use variables to store a combination of string concatenation.\n",
    "\n",
    "```python\n",
    "# Exercise 43\n",
    "```\n",
    "\n",
    "---\n",
    "\n",
    "### Exercise 44:\n",
    "Assign an empty list to a variable `empty_list`.\n",
    "\n",
    "```python\n",
    "# Exercise 44\n",
    "```\n",
    "\n",
    "---\n",
    "\n",
    "### Exercise 45:\n",
    "Assign a boolean value based on the comparison of two variables `a = 10` and `b = 15`.\n",
    "\n",
    "```python\n",
    "# Exercise 45\n",
    "```\n",
    "\n",
    "---\n",
    "\n",
    "### Exercise 46:\n",
    "Assign a long sentence to a variable and count its characters using `len()`.\n",
    "\n",
    "```python\n",
    "# Exercise 46\n",
    "```\n",
    "\n",
    "---\n",
    "\n",
    "### Exercise 47:\n",
    "Assign a fractional result `7 / 3` to a variable `division_result`.\n",
    "\n",
    "```python\n",
    "# Exercise 47\n",
    "```\n",
    "\n",
    "---\n",
    "\n",
    "### Exercise 48:\n",
    "Create a variable `speed` and assign it the value of 100 kilometers per hour.\n",
    "\n",
    "```python\n",
    "# Exercise 48\n",
    "```\n",
    "\n",
    "---\n",
    "\n",
    "### Exercise 49:\n",
    "Assign a multi-variable equation like `y = 3x + 5` where `x = 4` to a variable `y`.\n",
    "\n",
    "```python\n",
    "# Exercise 49\n",
    "```\n",
    "\n",
    "---\n",
    "\n",
    "### Exercise 50:\n",
    "Use variables to calculate and store the average of three numbers.\n",
    "\n",
    "```python\n",
    "# Exercise 50\n",
    "```\n",
    "\n",
    "****"
   ]
  },
  {
   "cell_type": "markdown",
   "id": "f4d62bc2-8a26-43a4-9fc0-dde554aa8993",
   "metadata": {},
   "source": [
    "## Exercise 1 Ans"
   ]
  },
  {
   "cell_type": "code",
   "execution_count": 1,
   "id": "c0ea9403-a872-4d77-bc8a-01588e9f459e",
   "metadata": {},
   "outputs": [],
   "source": [
    "x = 10"
   ]
  },
  {
   "cell_type": "markdown",
   "id": "be8285a8-676c-4e51-a4b7-1e1da4365bbf",
   "metadata": {},
   "source": [
    "## Exercise 2 Ans"
   ]
  },
  {
   "cell_type": "code",
   "execution_count": 3,
   "id": "933bb215-2ca6-438b-9e58-80a8b51a87de",
   "metadata": {},
   "outputs": [
    {
     "name": "stdout",
     "output_type": "stream",
     "text": [
      "True\n"
     ]
    }
   ],
   "source": [
    "is_valid = True\n",
    "print(is_valid) "
   ]
  },
  {
   "cell_type": "markdown",
   "id": "24081d41-6a20-4216-937b-5641224e0be4",
   "metadata": {},
   "source": [
    "## Exercise 3 Ans"
   ]
  },
  {
   "cell_type": "code",
   "execution_count": 7,
   "id": "401f9786-9420-4571-b634-1f960a26ece4",
   "metadata": {},
   "outputs": [],
   "source": [
    "name = \"Python Programming\""
   ]
  },
  {
   "cell_type": "markdown",
   "id": "3e3a753c-3e8f-4a4c-a05f-85f9ebd86e54",
   "metadata": {},
   "source": [
    "## Exercise 4 Ans"
   ]
  },
  {
   "cell_type": "code",
   "execution_count": 8,
   "id": "c38e76c3-f7ac-438c-b663-b1f3ceae5144",
   "metadata": {},
   "outputs": [],
   "source": [
    "sum_result = 5+3"
   ]
  },
  {
   "cell_type": "markdown",
   "id": "fe966a39-396e-496b-bde2-8fb2c5236b5c",
   "metadata": {},
   "source": [
    "## Exercise 5 Ans"
   ]
  },
  {
   "cell_type": "code",
   "execution_count": 9,
   "id": "28b7aec0-7bd6-46e8-8ffc-310af399ad54",
   "metadata": {},
   "outputs": [],
   "source": [
    "a, b, c = 5, 10, 15"
   ]
  },
  {
   "cell_type": "markdown",
   "id": "0f4f75ef-7ee9-460b-be63-287b9273a336",
   "metadata": {},
   "source": [
    "## Exercise 6 Ans"
   ]
  },
  {
   "cell_type": "code",
   "execution_count": 10,
   "id": "a2f15c4f-8d1d-4179-94d3-a8f7d1b99480",
   "metadata": {},
   "outputs": [],
   "source": [
    "y = x"
   ]
  },
  {
   "cell_type": "markdown",
   "id": "26ea35ef-974c-48cf-a036-64b9537e8c16",
   "metadata": {},
   "source": [
    "## Exercise 7 Ans"
   ]
  },
  {
   "cell_type": "code",
   "execution_count": 11,
   "id": "5738346b-1280-4eb5-8d6a-c8448ed7e3fa",
   "metadata": {},
   "outputs": [],
   "source": [
    "gravity = 9,8"
   ]
  },
  {
   "cell_type": "markdown",
   "id": "01e07eed-dc05-406d-8c1f-25a888b01f1d",
   "metadata": {},
   "source": [
    "## Exercise 8 Ans"
   ]
  },
  {
   "cell_type": "code",
   "execution_count": 12,
   "id": "27250acd-c983-43b4-a76b-e059dc03249b",
   "metadata": {},
   "outputs": [],
   "source": [
    "country =\"Rwanda\""
   ]
  },
  {
   "cell_type": "markdown",
   "id": "dbd0eeec-0dcb-4e89-b927-f680dd6f54f1",
   "metadata": {},
   "source": [
    "## Exercise 9 Ans"
   ]
  },
  {
   "cell_type": "code",
   "execution_count": 13,
   "id": "9c3da522-8499-4f92-bf7a-b5a9c984dedd",
   "metadata": {},
   "outputs": [],
   "source": [
    "Age = 25\n",
    "Age = 26"
   ]
  },
  {
   "cell_type": "markdown",
   "id": "b34911f4-0e5b-4788-95bc-d23ecdc17f7d",
   "metadata": {},
   "source": [
    "## Exercise 10 Ans"
   ]
  },
  {
   "cell_type": "code",
   "execution_count": 14,
   "id": "152ca1e6-e36a-4c95-9a28-ed96e64ff11e",
   "metadata": {},
   "outputs": [],
   "source": [
    "z = 20 - 7"
   ]
  },
  {
   "cell_type": "markdown",
   "id": "57b03de0-a481-45b5-829e-579be3cbb9de",
   "metadata": {},
   "source": [
    "## Exercise 11 Ans"
   ]
  },
  {
   "cell_type": "code",
   "execution_count": 15,
   "id": "402bb087-e2bd-4200-9af0-0fda88b45e50",
   "metadata": {},
   "outputs": [],
   "source": [
    "i = 3\n",
    "j = 4.5"
   ]
  },
  {
   "cell_type": "markdown",
   "id": "8f84df6e-1c38-4490-b07b-376e4995dc2a",
   "metadata": {},
   "source": [
    "## Exercise 12 Ans"
   ]
  },
  {
   "cell_type": "code",
   "execution_count": 18,
   "id": "75407bb9-737b-4757-a7e5-bc9cbefd1c11",
   "metadata": {},
   "outputs": [],
   "source": [
    "is_complete = False"
   ]
  },
  {
   "cell_type": "markdown",
   "id": "980af842-ba20-4cf3-b950-bcf17100dc98",
   "metadata": {},
   "source": [
    "## Exercise 13 Ans"
   ]
  },
  {
   "cell_type": "code",
   "execution_count": 17,
   "id": "d0e3b84b-580a-4023-bd26-15d3a09ee18d",
   "metadata": {},
   "outputs": [
    {
     "name": "stdout",
     "output_type": "stream",
     "text": [
      "15 14\n"
     ]
    }
   ],
   "source": [
    "x, y = 14, 15\n",
    "x = x + y\n",
    "y = x - y\n",
    "x = x - y\n",
    "print (x,y)"
   ]
  },
  {
   "cell_type": "markdown",
   "id": "64990e3e-64e6-4cad-a72a-56bbcdc483c7",
   "metadata": {},
   "source": [
    "## Exercise 14 Ans"
   ]
  },
  {
   "cell_type": "code",
   "execution_count": 19,
   "id": "eefecde5-2360-4e8c-bdf0-af602ccd8ec4",
   "metadata": {},
   "outputs": [],
   "source": [
    "complex_num = 3 + 4j"
   ]
  },
  {
   "cell_type": "markdown",
   "id": "afa1f18e-f94e-4ae2-938b-317dec2b827d",
   "metadata": {},
   "source": [
    "## Exercise 15 Ans"
   ]
  },
  {
   "cell_type": "code",
   "execution_count": 20,
   "id": "71c8b2af-b634-417e-88cf-f32d1a127062",
   "metadata": {},
   "outputs": [],
   "source": [
    "m = 15\n",
    "m = str(m)"
   ]
  },
  {
   "cell_type": "markdown",
   "id": "4bed20c6-179d-4e27-88b1-5b196a8d801a",
   "metadata": {},
   "source": [
    "## Exercise 16 Ans\n"
   ]
  },
  {
   "cell_type": "code",
   "execution_count": 21,
   "id": "5a3313f5-ee4d-409f-bf7e-4226eafbe63e",
   "metadata": {},
   "outputs": [],
   "source": [
    "First_name = 'Hadidja'\n",
    "last_name = 'UWASE'"
   ]
  },
  {
   "cell_type": "markdown",
   "id": "5a8ae271-d9a6-41a7-ba74-78304c644aab",
   "metadata": {},
   "source": [
    "## Exercise 17 Ans"
   ]
  },
  {
   "cell_type": "code",
   "execution_count": 22,
   "id": "4bde98d7-4388-4517-a131-ba8ade17a1df",
   "metadata": {},
   "outputs": [],
   "source": [
    "temperature = 35.5"
   ]
  },
  {
   "cell_type": "markdown",
   "id": "3aaf2766-b65a-485d-9bcb-6909d9169298",
   "metadata": {},
   "source": [
    "## Exercise 18 Ans"
   ]
  },
  {
   "cell_type": "code",
   "execution_count": 23,
   "id": "460ddafc-12f0-4582-b7fc-59a322d2ef8f",
   "metadata": {},
   "outputs": [],
   "source": [
    "product = 8 + 6"
   ]
  },
  {
   "cell_type": "markdown",
   "id": "0223fbf9-8bc5-422a-bfa0-5b88bbece1f3",
   "metadata": {},
   "source": [
    "## Exercise 19 Ans"
   ]
  },
  {
   "cell_type": "code",
   "execution_count": 24,
   "id": "b8ce33df-dbf6-452d-8798-55baa0e2dc70",
   "metadata": {},
   "outputs": [],
   "source": [
    "sentence = \"I love coding\""
   ]
  },
  {
   "cell_type": "markdown",
   "id": "7332029a-1b6f-49b4-a1d0-58c235878e98",
   "metadata": {},
   "source": [
    "## Exercise 20 Ans"
   ]
  },
  {
   "cell_type": "code",
   "execution_count": 25,
   "id": "43d151fe-aa57-410f-bb7d-fed0cf061166",
   "metadata": {},
   "outputs": [],
   "source": [
    "int_value = int('50')"
   ]
  },
  {
   "cell_type": "markdown",
   "id": "bd28b507-93b9-44ac-a823-2fcbdf23bd2b",
   "metadata": {},
   "source": [
    "## Exercise 21 Ans"
   ]
  },
  {
   "cell_type": "code",
   "execution_count": 26,
   "id": "7e9f587c-f507-450d-a3bc-7e53f139d95c",
   "metadata": {},
   "outputs": [],
   "source": [
    "quotient = 114/12"
   ]
  },
  {
   "cell_type": "markdown",
   "id": "9d816566-f3ee-4e5a-a140-3c909c7b6743",
   "metadata": {},
   "source": [
    "## Exercise 22 Ans"
   ]
  },
  {
   "cell_type": "code",
   "execution_count": 27,
   "id": "d86b7941-d98c-4640-bca7-e1194c895131",
   "metadata": {},
   "outputs": [],
   "source": [
    "remainder = 47 % 5"
   ]
  },
  {
   "cell_type": "markdown",
   "id": "3cc598c5-e68c-4bea-b380-f1c047d69519",
   "metadata": {},
   "source": [
    "## Exercise 23 Ans"
   ]
  },
  {
   "cell_type": "code",
   "execution_count": 28,
   "id": "c8f577b3-3fd4-41ab-b960-abc6512841a7",
   "metadata": {},
   "outputs": [
    {
     "name": "stdout",
     "output_type": "stream",
     "text": [
      "True\n"
     ]
    }
   ],
   "source": [
    "is_student = True\n",
    "print (is_student)"
   ]
  },
  {
   "cell_type": "markdown",
   "id": "864222d3-5211-4daa-8fea-14c4ffc668e4",
   "metadata": {},
   "source": [
    "## Exercise 24 Ans"
   ]
  },
  {
   "cell_type": "code",
   "execution_count": 29,
   "id": "447d62b8-1c99-4832-9779-caa3765a19ce",
   "metadata": {},
   "outputs": [
    {
     "name": "stdout",
     "output_type": "stream",
     "text": [
      "1\n"
     ]
    }
   ],
   "source": [
    "modulo_operation = 45 % 4\n",
    "print(modulo_operation)"
   ]
  },
  {
   "cell_type": "markdown",
   "id": "fa2fc402-79eb-4551-80cb-a65e199a70e1",
   "metadata": {},
   "source": [
    "## Exercise 25 Ans"
   ]
  },
  {
   "cell_type": "code",
   "execution_count": 30,
   "id": "6468c6ac-a67f-469b-9b7a-d758099dbc61",
   "metadata": {},
   "outputs": [],
   "source": [
    "pi = 3.14159"
   ]
  },
  {
   "cell_type": "markdown",
   "id": "fe544aaf-0267-4dcb-9162-c71cf6c38d08",
   "metadata": {},
   "source": [
    "## Exercise 26 Ans"
   ]
  }
 ],
 "metadata": {
  "kernelspec": {
   "display_name": "Python [conda env:base] *",
   "language": "python",
   "name": "conda-base-py"
  },
  "language_info": {
   "codemirror_mode": {
    "name": "ipython",
    "version": 3
   },
   "file_extension": ".py",
   "mimetype": "text/x-python",
   "name": "python",
   "nbconvert_exporter": "python",
   "pygments_lexer": "ipython3",
   "version": "3.12.7"
  }
 },
 "nbformat": 4,
 "nbformat_minor": 5
}
